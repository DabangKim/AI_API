{
 "cells": [
  {
   "cell_type": "markdown",
   "metadata": {},
   "source": [
    "### API Key 불러오기"
   ]
  },
  {
   "cell_type": "code",
   "execution_count": 1,
   "metadata": {},
   "outputs": [
    {
     "data": {
      "text/plain": [
       "True"
      ]
     },
     "execution_count": 1,
     "metadata": {},
     "output_type": "execute_result"
    }
   ],
   "source": [
    "import os\n",
    "from dotenv import load_dotenv\n",
    "\n",
    "# API Key 환경변수 설정\n",
    "load_dotenv()"
   ]
  },
  {
   "cell_type": "markdown",
   "metadata": {},
   "source": [
    "### 유튜브 동영상 내용 요약"
   ]
  },
  {
   "cell_type": "code",
   "execution_count": 2,
   "metadata": {},
   "outputs": [],
   "source": [
    "import requests\n",
    "import os\n",
    "\n",
    "def summarize_contents(contents_url, target_language):\n",
    "    \n",
    "    TOKEN = os.getenv(\"KAGI_API_KEY\") \n",
    "\n",
    "    base_url = 'https://kagi.com/api/v0/summarize'\n",
    "    params = {\n",
    "        \"url\": contents_url,\n",
    "        \"summary_type\": \"summary\",\n",
    "        \"engine\": \"muriel\",\n",
    "        \"target_language\": target_language\n",
    "    }\n",
    "    headers = {'Authorization': f'Bot {TOKEN}'}\n",
    "\n",
    "    response = requests.get(base_url, headers=headers, params=params)\n",
    "    summary = response.json()['data']['output']\n",
    "    \n",
    "    return summary"
   ]
  },
  {
   "cell_type": "code",
   "execution_count": 3,
   "metadata": {},
   "outputs": [
    {
     "name": "stdout",
     "output_type": "stream",
     "text": [
      "[콘텐츠 URL] https://www.youtube.com/watch?v=Ks-_Mh1QhMc\n",
      "에이미 커디(Amy Cuddy)의 TED 강연 \"당신의 신체 언어가 당신을 만듭니다(Your Body Language May Shape Who You Are)\"에서, 그녀는 신체 언어가 우리가 자신을 어떻게 인식하고 타인이 우리를 어떻게 [..이하 생략..]\n"
     ]
    }
   ],
   "source": [
    "import textwrap\n",
    "\n",
    "contents_url = \"https://www.youtube.com/watch?v=Ks-_Mh1QhMc\"\n",
    "target_language = \"KO\" # 요약할 언어를 한국어로 지정\n",
    "\n",
    "try:\n",
    "    summary = summarize_contents(contents_url, target_language)\n",
    "\n",
    "    print(\"[콘텐츠 URL]\", contents_url)\n",
    "    print(textwrap.shorten(summary, 150 ,placeholder=' [..이하 생략..]')) # 축약 출력\n",
    "    # print(summary) # 전체 출력\n",
    "except:\n",
    "    print(\"해당 URL의 내용을 요약하지 못했습니다. 다시 시도해 주세요.\")"
   ]
  },
  {
   "cell_type": "code",
   "execution_count": null,
   "metadata": {},
   "outputs": [],
   "source": [
    "import textwrap\n",
    "\n",
    "contents_urls = [\"https://www.youtube.com/watch?v=arj7oStGLkU\",\n",
    "                 \"https://www.youtube.com/watch?v=lmyZMtPVodo\",\n",
    "                 \"https://www.youtube.com/watch?v=JdwWgw4fq7I\"]\n",
    "                 \n",
    "target_language = \"KO\" # 요약할 언어를 한국어로 지정\n",
    "\n",
    "for contents_url in contents_urls:\n",
    "    try:\n",
    "        summary = summarize_contents(contents_url, target_language)\n",
    "        print(\"[콘텐츠 URL]\", contents_url)\n",
    "        print(textwrap.shorten(summary, 150 ,placeholder=' [..이하 생략..]')) # 축약 출력\n",
    "        # print(summary) # 전체 출력\n",
    "    except:\n",
    "        print(\"해당 URL의 내용을 요약하지 못했습니다. 다시 시도해 주세요.\")        "
   ]
  },
  {
   "cell_type": "markdown",
   "metadata": {},
   "source": [
    "### 비디오, 오디오 파일의 음성을 텍스트로 추출"
   ]
  },
  {
   "cell_type": "code",
   "execution_count": null,
   "metadata": {},
   "outputs": [],
   "source": [
    "import openai\n",
    "from pathlib import Path\n",
    "from openai import OpenAI\n",
    "\n",
    "def audio_transcribe(input_path, resp_format=\"text\", lang=\"en\"):\n",
    "    client = OpenAI()\n",
    "\n",
    "    with open(input_path, \"rb\") as f: # 음성 파일 열기\n",
    "        # 음성 추출  \n",
    "        transcript_response = client.audio.transcriptions.create(\n",
    "            model = \"gpt-4o-mini-transcribe\",\n",
    "            file = f,\n",
    "            language = lang,            \n",
    "            response_format = resp_format # 추출할 텍스트 형식 지정\n",
    "        )\n",
    "    \n",
    "    # 음성을 텍스트로 추출한 후에 텍스트 파일로 저장\n",
    "    path = Path(input_path)\n",
    "    output_file = path.with_suffix('.txt') if resp_format == \"text\" else path.with_suffix('.srt')\n",
    "        \n",
    "    with open(output_file, 'w', encoding='utf-8') as f:\n",
    "        if isinstance(transcript_response, str):\n",
    "            f.write(transcript_response)\n",
    "        else:\n",
    "            f.write(transcript_response.text)\n",
    "\n",
    "    return transcript_response, output_file"
   ]
  },
  {
   "cell_type": "code",
   "execution_count": null,
   "metadata": {},
   "outputs": [],
   "source": [
    "audio_file = \"download/youtube_video_file.mp3\"\n",
    "print(f\"[음성 파일 경로] {audio_file}\\n\")\n",
    "\n",
    "r_format = \"srt\" # 출력 형식을 srt로 지정\n",
    "transcript, output_path = audio_transcribe(audio_file, r_format)    \n",
    "\n",
    "print(f\"- [텍스트 추출 형식] {r_format}\")\n",
    "print(f\"- [출력 파일] {output_path.name}\")\n",
    "print(f\"- [음성 추출 결과(일부 출력)]\\n{transcript[:137]}\") # 추출 결과 출력(일부)\n",
    "# print(f\"- [음성 추출 결과]\\n{transcript}\") # 추출 결과 출력(전체)"
   ]
  },
  {
   "cell_type": "markdown",
   "metadata": {},
   "source": [
    "### 동영상 자막 번역"
   ]
  },
  {
   "cell_type": "code",
   "execution_count": 5,
   "metadata": {},
   "outputs": [],
   "source": [
    "import deepl\n",
    "from pathlib import Path\n",
    "\n",
    "def transplate_text_file(input_path, t_lang=\"KO\"):\n",
    "    \n",
    "    # 원본 파일 읽기\n",
    "    with open(input_path, encoding='utf-8') as f:\n",
    "        text = f.read()\n",
    "\n",
    "    # 번역 수행\n",
    "    auth_key = os.getenv(\"DeepL_API_KEY\") # Deepl 인증 키\n",
    "    translator = deepl.Translator(auth_key) # translator 객체를 생성\n",
    "    result = translator.translate_text(\n",
    "        text,               # 원본(소스) 텍스트\n",
    "        target_lang = \"KO\"  # 대상(타깃) 언어 코드  \n",
    "    ) \n",
    "    \n",
    "    # 번역 파일 쓰기\n",
    "    path = Path(input_path)\n",
    "    output_file = f\"{path.parent}/{path.stem}_번역_{t_lang}{path.suffix}\"\n",
    "    \n",
    "    output_path = Path(output_file)    \n",
    "\n",
    "    with open(output_file, 'w', encoding='utf-8') as f:\n",
    "        f.write(result.text)   \n",
    "\n",
    "    return output_path"
   ]
  },
  {
   "cell_type": "code",
   "execution_count": 6,
   "metadata": {},
   "outputs": [
    {
     "name": "stdout",
     "output_type": "stream",
     "text": [
      "- 번역 파일: aCbqE30AfUs_번역_KO.srt\n"
     ]
    }
   ],
   "source": [
    "input_file = \"download/aCbqE30AfUs.srt\"\n",
    "\n",
    "translated_file = transplate_text_file(input_file)\n",
    "print(\"- 번역 파일:\", translated_file.name)"
   ]
  }
 ],
 "metadata": {
  "anaconda-cloud": {},
  "kernelspec": {
   "display_name": "AI_API",
   "language": "python",
   "name": "python3"
  },
  "language_info": {
   "codemirror_mode": {
    "name": "ipython",
    "version": 3
   },
   "file_extension": ".py",
   "mimetype": "text/x-python",
   "name": "python",
   "nbconvert_exporter": "python",
   "pygments_lexer": "ipython3",
   "version": "3.13.2"
  },
  "latex_envs": {
   "LaTeX_envs_menu_present": true,
   "autoclose": false,
   "autocomplete": true,
   "bibliofile": "biblio.bib",
   "cite_by": "apalike",
   "current_citInitial": 1,
   "eqLabelWithNumbers": true,
   "eqNumInitial": 1,
   "hotkeys": {
    "equation": "Ctrl-E",
    "itemize": "Ctrl-I"
   },
   "labels_anchors": false,
   "latex_user_defs": false,
   "report_style_numbering": false,
   "user_envs_cfg": false
  },
  "nav_menu": {},
  "toc": {
   "base_numbering": "5",
   "nav_menu": {
    "height": "512px",
    "width": "252px"
   },
   "number_sections": false,
   "sideBar": true,
   "skip_h1_title": false,
   "title_cell": "Table of Contents",
   "title_sidebar": "Contents",
   "toc_cell": false,
   "toc_position": {
    "height": "545px",
    "left": "28px",
    "right": "1078px",
    "top": "111.133px",
    "width": "435px"
   },
   "toc_section_display": true,
   "toc_window_display": false
  },
  "toc_position": {
   "height": "556px",
   "left": "0px",
   "right": "1057px",
   "top": "107px",
   "width": "309px"
  }
 },
 "nbformat": 4,
 "nbformat_minor": 1
}
