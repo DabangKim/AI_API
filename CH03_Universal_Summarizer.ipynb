{
 "cells": [
  {
   "cell_type": "markdown",
   "metadata": {},
   "source": [
    "### API Key 불러오기"
   ]
  },
  {
   "cell_type": "code",
   "execution_count": 1,
   "metadata": {},
   "outputs": [
    {
     "data": {
      "text/plain": [
       "True"
      ]
     },
     "execution_count": 1,
     "metadata": {},
     "output_type": "execute_result"
    }
   ],
   "source": [
    "import os\n",
    "from dotenv import load_dotenv\n",
    "\n",
    "# API Key 환경변수 설정\n",
    "load_dotenv()"
   ]
  },
  {
   "cell_type": "markdown",
   "metadata": {},
   "source": [
    "### Universal Summarizer\n",
    "- URL\n",
    "    - 콘텐츠 요약을 위한 요청 주소: https://kagi.com/api/v0/summarize\n",
    "    - 요청 방법: GET 혹은 POST 메서드로 요청\n",
    "\n",
    "- 요청 변수\n",
    "    | Field | Type | Required | Description |\n",
    "    | - | - | - | - |\n",
    "    | url | URL | Yes | A URL to a document to summarize. Exclusive with text\n",
    "    | text | string\t| Yes | Text to summarize. Exclusive with url\n",
    "    | engine | string | No | Summarization engine\n",
    "    | summary_type | string\t| No | Type of summary\n",
    "    | target_language | string | No\t| Desired output language\n",
    "    | cache | bool | No\t| Whether to allow cached requests & responses. (default is true)\n",
    "    - engine\n",
    "        - cecil(default): Friendly, descriptive, fast summary\n",
    "        - agnes: Formal, technical, analytical summary\n",
    "        - daphne: Same as Agnes (Soon-to-be-deprecated)\n",
    "        - muriel: Best-in-class summary using our enterprise-grade model\n",
    "    - summary_type\n",
    "        - summary(default): Paragraph(s) of summary prose\n",
    "        - takeaway: Bulleted list of key points\n",
    "    - target_language\n",
    "        - EN(English), KO(Korean), ...\n",
    "\n",
    "- Header\n",
    "    - Authorization: Bot {KAGI_API_TOKEN}\n",
    "\n",
    "```python\n",
    "import requests\n",
    "\n",
    "base_url = 'https://kagi.com/api/v0/summarize'\n",
    "params = {\n",
    "    \"url\": 주소,\n",
    "    \"summary_type\": \"summary\",\n",
    "    \"engine\": \"muriel\"\n",
    "}\n",
    "headers = {'Authorization': f'Bot {TOKEN}'}\n",
    "\n",
    "response = requests.get(base_url, headers=headers, params=params)\n",
    "print(response.json())\n",
    "```"
   ]
  },
  {
   "cell_type": "code",
   "execution_count": null,
   "metadata": {},
   "outputs": [
    {
     "data": {
      "text/plain": [
       "<Response [200]>"
      ]
     },
     "execution_count": 4,
     "metadata": {},
     "output_type": "execute_result"
    }
   ],
   "source": [
    "import requests\n",
    "\n",
    "TOKEN = os.getenv(\"KAGI_API_KEY\") \n",
    "\n",
    "base_url = 'https://kagi.com/api/v0/summarize'\n",
    "params = {\n",
    "    \"url\": \"https://www.youtube.com/watch?v=ZSRHeXYDLko\",\n",
    "    \"summary_type\": \"summary\",\n",
    "    \"engine\": \"muriel\"\n",
    "}\n",
    "headers = {'Authorization': f'Bot {TOKEN}'}\n",
    "\n",
    "response = requests.get(base_url, headers=headers, params=params)\n",
    "response"
   ]
  },
  {
   "cell_type": "code",
   "execution_count": 5,
   "metadata": {},
   "outputs": [
    {
     "data": {
      "text/plain": [
       "{'meta': {'id': '82442a429ea67eec8b0d6b8a34955f5b',\n",
       "  'node': 'asia-southeast1',\n",
       "  'ms': 19733,\n",
       "  'api_balance': 0.0},\n",
       " 'data': {'output': '**Preventing the Collapse of Civilization / Jonathan Blow (Thekla, Inc)** explores the fragility of technological progress and its potential decline, emphasizing the importance of simplifying systems to ensure sustainability.\\n\\n### Chapter Summaries:\\n\\n**Intro (0:00)**  \\nJonathan Blow introduces the concept of technological progress and its potential decline, drawing parallels to historical events like the space race, where rapid advancements were achieved through extraordinary focus and effort.\\n\\n**The Space Race (0:49)**  \\nThe chapter recounts the achievements of the 20th-century space race, highlighting the rapid progress from Sputnik to the Apollo moon landing. It contrasts this with the subsequent stagnation and failures in space technology, illustrating how technological momentum can falter without sustained effort.\\n\\n**Technology Goes Backward (12:26)**  \\nExamples of advanced ancient technologies, such as the Roman Lycurgus Cup and the Antikythera Mechanism, demonstrate how sophisticated knowledge can be lost over time. Blow argues that technology does not inherently improve and requires continuous effort to maintain and advance.\\n\\n**The Late Bronze Age (15:30)**  \\nBlow discusses the collapse of interconnected civilizations in the Late Bronze Age, emphasizing how reliance on complex systems, such as trade for bronze, made these societies vulnerable to environmental and social stresses. He warns modern society faces similar risks due to its dependency on software.\\n\\n**Software in Decline (18:20)**  \\nBlow argues that software is currently in a state of decline, masked by advancements in hardware. He critiques the prevalence of bugs, inefficiencies, and overcomplicated systems, providing numerous examples from personal experience to illustrate the degradation of software quality.\\n\\n**Five Nines (28:26)**  \\nThe concept of \"five nines\" (99.999% reliability) is introduced to show how modern software has abandoned the rhetoric and pursuit of high reliability. Blow reflects on how this decline affects user experience and trust in technology.\\n\\n**API Architecture (43:14)**  \\nBlow critiques the increasing complexity of modern software architecture, such as the use of distributed systems for simple tasks. He argues this unnecessary complexity leads to inefficiency and fragility.\\n\\n**Complexity (47:14)**  \\nBlow connects the collapse of civilizations to the dangers of excessive complexity in modern systems. He stresses that increasing complexity reduces resilience to disasters and calls for a focus on simplification.\\n\\n**Simplify (52:58)**  \\nBlow advocates for simplifying hardware, software, and systems at all levels to combat technological decline. He emphasizes that reducing complexity will lead to better software, happier developers, and a more sustainable future.\\n\\n**Removing Complexity (54:43)**  \\nFor game developers and programmers, Blow argues that simplifying tools and codebases is essential for both short-term productivity and long-term sustainability. He warns against relying on overly complex systems that may become unsustainable.\\n\\n**The Foundation (49:48)**  \\nBlow expresses concern that the knowledge required to maintain foundational technologies, like game engines, is diminishing as fewer people learn how to build such systems from scratch. He warns this could lead to their eventual decay.\\n\\n### Overall Message:  \\nJonathan Blow warns that technology, especially software, is at risk of decline due to increasing complexity, loss of knowledge, and a lack of focus on sustainability. He urges a shift toward simplification and preservation of foundational skills to prevent a potential collapse of modern civilization\\'s technological infrastructure.',\n",
       "  'tokens': 15082}}"
      ]
     },
     "execution_count": 5,
     "metadata": {},
     "output_type": "execute_result"
    }
   ],
   "source": [
    "response.json()"
   ]
  },
  {
   "cell_type": "code",
   "execution_count": 10,
   "metadata": {},
   "outputs": [
    {
     "data": {
      "text/plain": [
       "'**Preventing the Collapse of Civilization / Jonathan Blow (Thekla, Inc)** explores the fragility of technological progress and its potential decline, emphasizing the importance of simplifying systems to ensure sustainability.\\n\\n### Chapter Summaries:\\n\\n**Intro (0:00)**  \\nJonathan Blow introduces the concept of technological progress and its potential decline, drawing parallels to historical events like the space race, where rapid advancements were achieved through extraordinary focus and effort.\\n\\n**The Space Race (0:49)**  \\nThe chapter recounts the achievements of the 20th-century space race, highlighting the rapid progress from Sputnik to the Apollo moon landing. It contrasts this with the subsequent stagnation and failures in space technology, illustrating how technological momentum can falter without sustained effort.\\n\\n**Technology Goes Backward (12:26)**  \\nExamples of advanced ancient technologies, such as the Roman Lycurgus Cup and the Antikythera Mechanism, demonstrate how sophisticated knowledge can be lost over time. Blow argues that technology does not inherently improve and requires continuous effort to maintain and advance.\\n\\n**The Late Bronze Age (15:30)**  \\nBlow discusses the collapse of interconnected civilizations in the Late Bronze Age, emphasizing how reliance on complex systems, such as trade for bronze, made these societies vulnerable to environmental and social stresses. He warns modern society faces similar risks due to its dependency on software.\\n\\n**Software in Decline (18:20)**  \\nBlow argues that software is currently in a state of decline, masked by advancements in hardware. He critiques the prevalence of bugs, inefficiencies, and overcomplicated systems, providing numerous examples from personal experience to illustrate the degradation of software quality.\\n\\n**Five Nines (28:26)**  \\nThe concept of \"five nines\" (99.999% reliability) is introduced to show how modern software has abandoned the rhetoric and pursuit of high reliability. Blow reflects on how this decline affects user experience and trust in technology.\\n\\n**API Architecture (43:14)**  \\nBlow critiques the increasing complexity of modern software architecture, such as the use of distributed systems for simple tasks. He argues this unnecessary complexity leads to inefficiency and fragility.\\n\\n**Complexity (47:14)**  \\nBlow connects the collapse of civilizations to the dangers of excessive complexity in modern systems. He stresses that increasing complexity reduces resilience to disasters and calls for a focus on simplification.\\n\\n**Simplify (52:58)**  \\nBlow advocates for simplifying hardware, software, and systems at all levels to combat technological decline. He emphasizes that reducing complexity will lead to better software, happier developers, and a more sustainable future.\\n\\n**Removing Complexity (54:43)**  \\nFor game developers and programmers, Blow argues that simplifying tools and codebases is essential for both short-term productivity and long-term sustainability. He warns against relying on overly complex systems that may become unsustainable.\\n\\n**The Foundation (49:48)**  \\nBlow expresses concern that the knowledge required to maintain foundational technologies, like game engines, is diminishing as fewer people learn how to build such systems from scratch. He warns this could lead to their eventual decay.\\n\\n### Overall Message:  \\nJonathan Blow warns that technology, especially software, is at risk of decline due to increasing complexity, loss of knowledge, and a lack of focus on sustainability. He urges a shift toward simplification and preservation of foundational skills to prevent a potential collapse of modern civilization\\'s technological infrastructure.'"
      ]
     },
     "execution_count": 10,
     "metadata": {},
     "output_type": "execute_result"
    }
   ],
   "source": [
    "summary = response.json()['data']['output']\n",
    "summary"
   ]
  },
  {
   "cell_type": "code",
   "execution_count": null,
   "metadata": {},
   "outputs": [],
   "source": [
    "# 축약된 요약\n",
    "import requests\n",
    "import textwrap\n",
    "\n",
    "TOKEN = os.getenv(\"KAGI_API_KEY\")\n",
    "\n",
    "base_url = 'https://kagi.com/api/v0/summarize'\n",
    "params = {\n",
    "    \"url\": \"https://www.youtube.com/watch?v=ZSRHeXYDLko\",\n",
    "    \"summary_type\": \"summary\",\n",
    "    \"engine\": \"muriel\"\n",
    "}\n",
    "headers = {'Authorization': f'Bot {TOKEN}'}\n",
    "\n",
    "response = requests.get(base_url, headers=headers, params=params)\n",
    "summary = response.json()['data']['output']\n",
    "shorten_summary = textwrap.shorten(summary, 150, placeholder=' [..이하 생략..]')\n",
    "\n",
    "# 축약된 내용 출력\n",
    "print(\"- 요약 내용(축약):\", shorten_summary)\n",
    "# 전체 내용 출력\n",
    "# print(\"- 요약 내용:\", summary)"
   ]
  },
  {
   "cell_type": "code",
   "execution_count": null,
   "metadata": {},
   "outputs": [],
   "source": [
    "# 축약된 요약(언어 설정 ver.)\n",
    "import requests\n",
    "import textwrap\n",
    "\n",
    "TOKEN = os.getenv(\"KAGI_API_KEY\")\n",
    "\n",
    "base_url = 'https://kagi.com/api/v0/summarize'\n",
    "params = {\n",
    "    \"url\": \"https://www.khan.co.kr/culture/culture-general/article/202212310830021\",\n",
    "    \"summary_type\": \"summary\",\n",
    "    \"engine\": \"muriel\",\n",
    "    \"target_language\": \"ko\"\n",
    "}\n",
    "headers = {'Authorization': f'Bot {TOKEN}'}\n",
    "\n",
    "response = requests.get(base_url, headers=headers, params=params)\n",
    "summary = response.json()['data']['output']\n",
    "shorten_summary = textwrap.shorten(summary, 150, placeholder=' [..이하 생략..]')\n",
    "\n",
    "# 축약된 내용 출력\n",
    "print(\"- 요약 내용(축약):\", shorten_summary)\n",
    "# 전체 내용 출력\n",
    "# print(\"- 요약 내용:\", summary)"
   ]
  },
  {
   "cell_type": "code",
   "execution_count": null,
   "metadata": {},
   "outputs": [],
   "source": [
    "# 축약된 요약(엔진 변경)\n",
    "import requests\n",
    "import textwrap\n",
    "\n",
    "TOKEN = os.getenv(\"KAGI_API_KEY\")\n",
    "\n",
    "engines = [\"cecil\", \"agnes\", \"daphne\", \"muriel\"]\n",
    "\n",
    "for engine in engines:\n",
    "    base_url = 'https://kagi.com/api/v0/summarize'\n",
    "    params = {\n",
    "        \"url\": \"https://www.khan.co.kr/culture/culture-general/article/202212310830021\",\n",
    "        \"summary_type\": \"summary\",\n",
    "        \"engine\": engine,\n",
    "        \"target_language\": \"ko\"\n",
    "    }\n",
    "    headers = {'Authorization': f'Bot {TOKEN}'}\n",
    "\n",
    "    response = requests.get(base_url, headers=headers, params=params)\n",
    "    summary = response.json()['data']['output']\n",
    "    shorten_summary = textwrap.shorten(summary, 150, placeholder=' [..이하 생략..]')\n",
    "\n",
    "    # 축약된 내용 출력\n",
    "    print(\"- 요약 내용(축약):\", shorten_summary)\n",
    "    # 전체 내용 출력\n",
    "    # print(\"- 요약 내용:\", summary)"
   ]
  },
  {
   "cell_type": "code",
   "execution_count": null,
   "metadata": {},
   "outputs": [
    {
     "name": "stdout",
     "output_type": "stream",
     "text": [
      "[원본 텍스트 파일의 내용 앞부분만 출력]\n",
      "I am honored to be with you today at your commencement from one of the finest universities in the world. I never graduated from college. Truth be told, this is the closest I've ever gotten to a college graduation. Today I want to tell you three stories from my life. That's it. No big deal.\n",
      "\n",
      "[요약 내용 출력]\n",
      "This speech, delivered at a university commencement, shares three impactful life stories. The first story is about \"connecting the dots,\" where the speaker recounts dropping out of college due to financial strain and lack of direction, [..이하 생략..]\n"
     ]
    }
   ],
   "source": [
    "# 텍스트 내용 요약\n",
    "import requests\n",
    "import textwrap\n",
    "\n",
    "# 텍스트 파일에서 데이터 가져오기\n",
    "text_file_name = \"data/스티브_잡스_2005_스탠포드_연설.txt\"\n",
    "\n",
    "with open(text_file_name, 'r', encoding='utf-8') as f:\n",
    "    text_data = f.read()\n",
    "\n",
    "print(\"[원본 텍스트 파일의 내용 앞부분만 출력]\")\n",
    "print(text_data[:290])\n",
    "print()\n",
    "\n",
    "# 텍스트 데이터 요약하기\n",
    "TOKEN = os.getenv(\"KAGI_API_KEY\")\n",
    "\n",
    "base_url = 'https://kagi.com/api/v0/summarize'\n",
    "params = {\n",
    "    \"text\": text_data,\n",
    "    \"summary_type\": \"summary\",\n",
    "    \"engine\": \"muriel\"\n",
    "}\n",
    "headers = {'Authorization': f'Bot {TOKEN}'}\n",
    "\n",
    "response = requests.post(base_url, headers=headers, json=params)\n",
    "summary = response.json()['data']['output']\n",
    "shorten_summary = textwrap.shorten(summary, 250, placeholder=' [..이하 생략..]')\n",
    "\n",
    "# 축약된 내용 출력\n",
    "print(\"[요약 내용 출력]\")\n",
    "print(shorten_summary)\n",
    "# 전체 내용 출력\n",
    "# print(summary)"
   ]
  },
  {
   "cell_type": "code",
   "execution_count": null,
   "metadata": {},
   "outputs": [],
   "source": [
    "# 텍스트 내용 요약(언어 설정 ver.)\n",
    "import requests\n",
    "import textwrap\n",
    "\n",
    "# 텍스트 파일에서 데이터 가져오기\n",
    "text_file_name = \"data/서연의_이야기.txt\"\n",
    "\n",
    "with open(text_file_name, 'r', encoding='utf-8') as f:\n",
    "    text_data = f.read()\n",
    "\n",
    "print(\"[원본 텍스트 파일의 내용 앞부분만 출력]\")\n",
    "print(text_data[:158])\n",
    "print()\n",
    "\n",
    "# 텍스트 데이터 요약하기\n",
    "TOKEN = os.getenv(\"KAGI_API_KEY\")\n",
    "\n",
    "base_url = 'https://kagi.com/api/v0/summarize'\n",
    "params = {\n",
    "    \"text\": text_data,\n",
    "    \"summary_type\": \"summary\",\n",
    "    \"engine\": \"muriel\",\n",
    "    \"target_language\": \"ko\"\n",
    "}\n",
    "headers = {'Authorization': f'Bot {TOKEN}'}\n",
    "\n",
    "response = requests.post(base_url, headers=headers, json=params)\n",
    "summary = response.json()['data']['output']\n",
    "shorten_summary = textwrap.shorten(summary, 250, placeholder=' [..이하 생략..]')\n",
    "\n",
    "# 축약된 내용 출력\n",
    "print(\"[요약 내용 출력]\")\n",
    "print(shorten_summary)\n",
    "# 전체 내용 출력\n",
    "# print(summary)"
   ]
  }
 ],
 "metadata": {
  "anaconda-cloud": {},
  "kernelspec": {
   "display_name": "AI_API",
   "language": "python",
   "name": "python3"
  },
  "language_info": {
   "codemirror_mode": {
    "name": "ipython",
    "version": 3
   },
   "file_extension": ".py",
   "mimetype": "text/x-python",
   "name": "python",
   "nbconvert_exporter": "python",
   "pygments_lexer": "ipython3",
   "version": "3.13.2"
  },
  "latex_envs": {
   "LaTeX_envs_menu_present": true,
   "autoclose": false,
   "autocomplete": true,
   "bibliofile": "biblio.bib",
   "cite_by": "apalike",
   "current_citInitial": 1,
   "eqLabelWithNumbers": true,
   "eqNumInitial": 1,
   "hotkeys": {
    "equation": "Ctrl-E",
    "itemize": "Ctrl-I"
   },
   "labels_anchors": false,
   "latex_user_defs": false,
   "report_style_numbering": false,
   "user_envs_cfg": false
  },
  "nav_menu": {},
  "toc": {
   "base_numbering": "5",
   "nav_menu": {
    "height": "512px",
    "width": "252px"
   },
   "number_sections": false,
   "sideBar": true,
   "skip_h1_title": false,
   "title_cell": "Table of Contents",
   "title_sidebar": "Contents",
   "toc_cell": false,
   "toc_position": {
    "height": "545px",
    "left": "28px",
    "right": "1078px",
    "top": "111.133px",
    "width": "435px"
   },
   "toc_section_display": true,
   "toc_window_display": false
  },
  "toc_position": {
   "height": "556px",
   "left": "0px",
   "right": "1057px",
   "top": "107px",
   "width": "309px"
  }
 },
 "nbformat": 4,
 "nbformat_minor": 1
}
