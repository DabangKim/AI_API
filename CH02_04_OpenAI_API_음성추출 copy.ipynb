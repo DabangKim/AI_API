{
 "cells": [
  {
   "cell_type": "markdown",
   "metadata": {},
   "source": [
    "### OpenAI 파이썬 라이브러리 설치"
   ]
  },
  {
   "cell_type": "code",
   "execution_count": 1,
   "metadata": {},
   "outputs": [
    {
     "data": {
      "text/plain": [
       "True"
      ]
     },
     "execution_count": 1,
     "metadata": {},
     "output_type": "execute_result"
    }
   ],
   "source": [
    "import os\n",
    "from dotenv import load_dotenv\n",
    "\n",
    "# API Key 환경변수 설정\n",
    "load_dotenv()"
   ]
  },
  {
   "cell_type": "markdown",
   "metadata": {},
   "source": [
    "### audio.transcriptions.create()\n",
    "- 음성에서 텍스트를 추출한 정보를 반환\n",
    "\n",
    "```python\n",
    "client = OpenAI()\n",
    "\n",
    "response = client.audio.transcriptions.create(\n",
    "    model = \"gpt-4o-mini-transcribe\",\n",
    "    file = open(file_path, \"rb\"),\n",
    "    response_format = \"text\", # text, srt, vtt, json, verbose_json 중 하나 선택\n",
    "    language = \"ko\"\n",
    ")\n",
    "```"
   ]
  },
  {
   "cell_type": "code",
   "execution_count": null,
   "metadata": {},
   "outputs": [
    {
     "name": "stdout",
     "output_type": "stream",
     "text": [
      "서연은 서울에서 일하는 스물여섯 살 여성 직장인이다. 그녀는 매일 아침 눈이 번쩍 뜨이면서 하루가 시작된다. 서연은 어린 시절부터 도시 생활에 익숙해져 있었지만 사람들이 북적이는 도시에서 독립적으로 살아가는 것은 여전히 어렵고 힘든 일이다. 그러나 서연은 자신의 삶을 즐기기 위해 최선을 다하며 여유를 찾아 나선다.\n",
      "\n"
     ]
    }
   ],
   "source": [
    "from openai import OpenAI\n",
    "\n",
    "client = OpenAI()\n",
    "\n",
    "# 비디오, 오디오 파일 열기\n",
    "file_path = \"data/서연의_하루_TTS_short.mp3\"\n",
    "with open(file_path, \"rb\") as audio_file:\n",
    "    # 지정한 형식으로 음성 추출\n",
    "    response = client.audio.transcriptions.create(\n",
    "        model = \"gpt-4o-mini-transcribe\",\n",
    "        file = audio_file,\n",
    "        response_format = \"text\"\n",
    "    )\n",
    "\n",
    "print(response)"
   ]
  },
  {
   "cell_type": "markdown",
   "metadata": {},
   "source": [
    "### audio.translations.create()\n",
    "- 음성에서 텍스트로 출해 번역한 정보를 반환\n",
    "\n",
    "```python\n",
    "client = OpenAI()\n",
    "\n",
    "response = client.audio.translations.create(\n",
    "    model = \"whisper-1\",\n",
    "    file = open(file_path, \"rb\"),\n",
    "    response_format = \"text\", # text, srt, vtt, json, verbose_json 중 하나 선택\n",
    "    language = \"ko\"\n",
    ")\n",
    "```"
   ]
  },
  {
   "cell_type": "code",
   "execution_count": 5,
   "metadata": {},
   "outputs": [
    {
     "name": "stdout",
     "output_type": "stream",
     "text": [
      "Seoyeon is a 26-year-old female office worker who works in Seoul. She wakes up every morning and sta\n"
     ]
    }
   ],
   "source": [
    "from openai import OpenAI\n",
    "\n",
    "client = OpenAI()\n",
    "\n",
    "# 비디오, 오디오 파일 열기\n",
    "file_path = \"data/서연의_하루_TTS_배경음악_short.mp3\"\n",
    "with open(file_path, \"rb\") as audio_file:\n",
    "    # 지정한 형식으로 음성 추출\n",
    "    response = client.audio.translations.create(\n",
    "        model = \"whisper-1\",\n",
    "        file = audio_file,\n",
    "        response_format = \"text\"\n",
    "    )\n",
    "\n",
    "print(response[:100])"
   ]
  }
 ],
 "metadata": {
  "anaconda-cloud": {},
  "kernelspec": {
   "display_name": "AI_API",
   "language": "python",
   "name": "python3"
  },
  "language_info": {
   "codemirror_mode": {
    "name": "ipython",
    "version": 3
   },
   "file_extension": ".py",
   "mimetype": "text/x-python",
   "name": "python",
   "nbconvert_exporter": "python",
   "pygments_lexer": "ipython3",
   "version": "3.13.2"
  },
  "latex_envs": {
   "LaTeX_envs_menu_present": true,
   "autoclose": false,
   "autocomplete": true,
   "bibliofile": "biblio.bib",
   "cite_by": "apalike",
   "current_citInitial": 1,
   "eqLabelWithNumbers": true,
   "eqNumInitial": 1,
   "hotkeys": {
    "equation": "Ctrl-E",
    "itemize": "Ctrl-I"
   },
   "labels_anchors": false,
   "latex_user_defs": false,
   "report_style_numbering": false,
   "user_envs_cfg": false
  },
  "nav_menu": {},
  "toc": {
   "base_numbering": "5",
   "nav_menu": {
    "height": "512px",
    "width": "252px"
   },
   "number_sections": false,
   "sideBar": true,
   "skip_h1_title": false,
   "title_cell": "Table of Contents",
   "title_sidebar": "Contents",
   "toc_cell": false,
   "toc_position": {
    "height": "545px",
    "left": "28px",
    "right": "1078px",
    "top": "111.133px",
    "width": "435px"
   },
   "toc_section_display": true,
   "toc_window_display": false
  },
  "toc_position": {
   "height": "556px",
   "left": "0px",
   "right": "1057px",
   "top": "107px",
   "width": "309px"
  }
 },
 "nbformat": 4,
 "nbformat_minor": 1
}
