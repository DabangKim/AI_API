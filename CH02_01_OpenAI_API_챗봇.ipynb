{
 "cells": [
  {
   "cell_type": "markdown",
   "metadata": {},
   "source": [
    "### OpenAI 파이썬 라이브러리 설치"
   ]
  },
  {
   "cell_type": "code",
   "execution_count": 1,
   "metadata": {},
   "outputs": [],
   "source": [
    "import os\n",
    "from dotenv import load_dotenv\n",
    "\n",
    "# API Key 환경변수 설정\n",
    "load_dotenv()\n",
    "os.environ['OPENAI_API_KEY'] = os.getenv(\"OPENAI_API_KEY\")"
   ]
  },
  {
   "cell_type": "markdown",
   "metadata": {},
   "source": [
    "### Chat Completions API를 이용한 챗봇 만들기\n",
    "\n",
    "```python\n",
    "response = {\n",
    "    \"model\": \"gpt-4\",\n",
    "    \"messages\": [\n",
    "        {\"role\": \"system\", \"content\": \"You are a helpful assistant.\"},\n",
    "        {\"role\": \"user\", \"content\": \"대한민국의 수도는 어디야?\"},\n",
    "        {\"role\": \"assistant\", \"content\": \"대한민국의 수도는 서울입니다.\"},\n",
    "        {\"role\": \"user\", \"content\": \"이곳의 인구는 얼마나 돼?\"},\n",
    "    ],\n",
    "    \"temperature\": 0.7,\n",
    "    \"n\": 1,\n",
    "    \"stream\": False,\n",
    "    \"stop\": None,\n",
    "    \"max_tokens\": 100,\n",
    "    \"presence_penalty\": 0,\n",
    "    \"frequency_penalty\": 0,\n",
    "}\n",
    "```\n",
    "\n",
    "**필수 파라미터**\n",
    "- model : 사용할 모델 이름\n",
    "- messages : 대화의 히스토리를 다음 리스트. 일반적으로 대화는 system 메시지로 시작, 이는 AI에게 전달하려는 기본적인 지시 사항을 제공\n",
    "  - role : 메시지의 역할(system, user, assistant) 중 하나\n",
    "    - system : AI에게 전달할 초기 지시사항이나 정보를 제공하는 메시지\n",
    "    - user : 사용자의 질문이나 메시지를 나타냄. 인공지능이 응답해야 할 입력\n",
    "    - assistant : 인공지능 조력자의 이전 응답을 나타냄\n",
    "  - content : 실제 메시지 내용\n",
    "\n",
    "  \n",
    "**주요 옵선 파라미터**\n",
    "- temperature : 0 ~ 2 사이의 값. 값이 높을수록 더 창의적이고 다양성 있는 응답 생성 (기본값: 1)\n",
    "- n : 한 번에 생성할 응답 수\n",
    "- stream : true로 설정 시 서버가 응답을 chunk로 스트리밍 전송\n",
    "- stop : 응답 생성을 멈추게 할 문자열(들). 예: [\"\\nHuman:\", \"\\nAI:\"]\n",
    "- max_tokens : 응답에서 사용할 최대 토큰 수\n",
    "- presence_penalty : 주제 다양성을 높이기 위해 이미 언급된 주제를 피하도록 유도\n",
    "- frequency_penalty : 같은 문장을 반복하지 않도록 유도"
   ]
  },
  {
   "cell_type": "code",
   "execution_count": 4,
   "metadata": {},
   "outputs": [
    {
     "name": "stdout",
     "output_type": "stream",
     "text": [
      "대한민국의 수도는 서울입니다.\n"
     ]
    }
   ],
   "source": [
    "import openai\n",
    "\n",
    "# 대화 메시지 정의\n",
    "messages = [\n",
    "    {\"role\": \"user\", \"content\": \"대한민국의 수도는 어디인가요?\"}\n",
    "]\n",
    "\n",
    "# Chat Completions API 호출\n",
    "response = openai.chat.completions.create(\n",
    "                model = \"gpt-3.5-turbo\",\n",
    "                # gpt-3.5-turbo : 비용 절감 & 속도\n",
    "                # gpt-4-turbo : 정확도 & 품질\n",
    "                messages = messages, # 전달할 메시지 지정\n",
    "                max_tokens = 1000,   # 응답 최대 토큰 수 지정\n",
    "                temperature = 0.8,   # 완성의 다양성을 조절하는 온도 설정\n",
    "                n = 1                # 생성할 완성의 개수 지정\n",
    ")\n",
    "\n",
    "# 응답 출력\n",
    "assistant_reply = response.choices[0].message.content\n",
    "print(assistant_reply)"
   ]
  },
  {
   "cell_type": "code",
   "execution_count": 5,
   "metadata": {},
   "outputs": [
    {
     "data": {
      "text/plain": [
       "ChatCompletion(id='chatcmpl-BMpvHRuJr7T7iCSULDYk4OMWwtEh4', choices=[Choice(finish_reason='stop', index=0, logprobs=None, message=ChatCompletionMessage(content='대한민국의 수도는 서울입니다.', refusal=None, role='assistant', annotations=[], audio=None, function_call=None, tool_calls=None))], created=1744782507, model='gpt-3.5-turbo-0125', object='chat.completion', service_tier='default', system_fingerprint=None, usage=CompletionUsage(completion_tokens=16, prompt_tokens=24, total_tokens=40, completion_tokens_details=CompletionTokensDetails(accepted_prediction_tokens=0, audio_tokens=0, reasoning_tokens=0, rejected_prediction_tokens=0), prompt_tokens_details=PromptTokensDetails(audio_tokens=0, cached_tokens=0)))"
      ]
     },
     "execution_count": 5,
     "metadata": {},
     "output_type": "execute_result"
    }
   ],
   "source": [
    "response"
   ]
  },
  {
   "cell_type": "code",
   "execution_count": 8,
   "metadata": {},
   "outputs": [
    {
     "name": "stdout",
     "output_type": "stream",
     "text": [
      "응답 개수: 2\n"
     ]
    }
   ],
   "source": [
    "# 대화 메시지 정의\n",
    "messages = [\n",
    "    {\"role\": \"user\", \"content\": \"한글은 언제 만들어졌나요?\"}\n",
    "]\n",
    "\n",
    "# Chat Completions API 호출\n",
    "response = openai.chat.completions.create(\n",
    "                model = \"gpt-3.5-turbo\",\n",
    "                messages = messages,\n",
    "                max_tokens = 1000,\n",
    "                temperature = 0.8,\n",
    "                n = 2 \n",
    ")\n",
    "\n",
    "# 응답 개수 출력\n",
    "print(\"응답 개수:\", len(response.choices))"
   ]
  },
  {
   "cell_type": "code",
   "execution_count": 9,
   "metadata": {},
   "outputs": [
    {
     "name": "stdout",
     "output_type": "stream",
     "text": [
      "[응답 0] 한글은 1443년에 세종 대왕이 제정한 '훈민정음'으로 처음 만들어졌습니다. 이것은 한글을 만들어 국민들이 읽고 쓰는 데 편리하게 하기 위한 목적으로 만들어졌습니다. 이후 한글은 계속 발전하여 현재까지 한국의 공식 언어로 사용되고 있습니다.\n",
      "[응답 1] 한글은 1443년에 세종대왕이 훈민정음을 창제하여 만들어졌습니다. 이는 한글의 제작자인 세종대왕이 한국의 국민들이 쉽게 읽고 쓸 수 있도록 만들기 위해 만들어졌습니다.\n"
     ]
    }
   ],
   "source": [
    "print(\"[응답 0]\", response.choices[0].message.content)\n",
    "print(\"[응답 1]\", response.choices[1].message.content)"
   ]
  },
  {
   "cell_type": "code",
   "execution_count": 10,
   "metadata": {},
   "outputs": [
    {
     "name": "stdout",
     "output_type": "stream",
     "text": [
      "['대한민국은 민주공화국이다.']\n"
     ]
    }
   ],
   "source": [
    "def response_from_ChatAI(user_content, r_num=1):\n",
    "    \n",
    "    # 대화 메시지 정의\n",
    "    messages = [ {\"role\": \"user\", \"content\": user_content} ]\n",
    "\n",
    "    # Chat Completions API 호출\n",
    "    response = openai.chat.completions.create(\n",
    "                    model = \"gpt-3.5-turbo\",\n",
    "                    messages = messages,\n",
    "                    max_tokens = 1000,\n",
    "                    temperature = 0.8,\n",
    "                    n = r_num \n",
    "    )\n",
    "    \n",
    "    # 응답을 리스트에 할당\n",
    "    assistant_replies = []\n",
    "    \n",
    "    for choice in response.choices:\n",
    "        assistant_replies.append(choice.message.content)\n",
    "\n",
    "    # 응답 반환    \n",
    "    return assistant_replies\n",
    "\n",
    "resp = response_from_ChatAI(\"대한민국 헌법 제1조 1항은?\")\n",
    "print(resp)"
   ]
  },
  {
   "cell_type": "code",
   "execution_count": 11,
   "metadata": {},
   "outputs": [
    {
     "name": "stdout",
     "output_type": "stream",
     "text": [
      "ChatGPT는 OpenAI에서 개발된 인공지능 챗봇입니다. GPT-3 모델을 기반으로 하며, 다양한 주제에 대해 대화하고 응답을 생성할 수 있습니다. [..이하 생략..]\n",
      "\n",
      "ChatGPT는 OpenAI에서 개발한 대화형 인공지능 모델입니다. 이 모델은 GPT-3(Generative Pre-trained Transformer 3) [..이하 생략..]\n",
      "\n"
     ]
    }
   ],
   "source": [
    "import textwrap\n",
    "\n",
    "# 두 개의 응답 설정\n",
    "resps = response_from_ChatAI(\"ChatGPT는 무엇인가요?\", 2) \n",
    "\n",
    "for resp in resps:\n",
    "    shorten_resp = textwrap.shorten(resp, 100, placeholder = ' [..이하 생략..]')\n",
    "    print(shorten_resp) # 축약 내용 출력\n",
    "    print() # 빈 줄 하나를 출력"
   ]
  },
  {
   "cell_type": "code",
   "execution_count": 12,
   "metadata": {},
   "outputs": [
    {
     "name": "stdout",
     "output_type": "stream",
     "text": [
      "물론이죠! 아래는 두 숫자를 입력받아 더하는 파이썬 함수입니다.\n",
      "\n",
      "```python\n",
      "def add_numbers(num1, num2):\n",
      "    return num1 + num2\n",
      "\n",
      "# 두 숫자를 입력받습니다\n",
      "num1 = int(input(\"첫 번째 숫자를 입력하세요: \"))\n",
      "num2 = int(input(\"두 번째 숫자를 입력하세요: \"))\n",
      "\n",
      "# 두 숫자를 더한 결과를 출력합니다\n",
      "result = add_numbers(num1, num2)\n",
      "print(\"두 숫자의 합은:\", result)\n",
      "```\n",
      "\n",
      "이 함수를 사용하면 사용자로부터 두 숫자를 입력받아 더한 결과를 출력할 수 있습니다. 원하는 숫자를 입력하여 테스트해보세요!\n"
     ]
    }
   ],
   "source": [
    "resps = response_from_ChatAI(\"두 숫자를 입력받아 더하는 파이썬 함수 만들어 줘\")\n",
    "print(resps[0])"
   ]
  },
  {
   "cell_type": "code",
   "execution_count": 16,
   "metadata": {},
   "outputs": [
    {
     "name": "stdout",
     "output_type": "stream",
     "text": [
      "[나]ChatGPT는 무엇인가요?\n",
      "[AI]ChatGPT(이하 GPT-3)는 OpenAI에서 개발된 대화형 인공지능 모델입니다. GPT는 \"Generative Pre-trained Transformer\"의 약자로, 텍스트 생성 및 이해를 위한 인공지능 알고리즘입니다. GPT-3는 세대적인 발전을 이룬 최신 버전으로, 자연어 처리 및 대화가 포함된 다양한 작업을 수행할 수 있습니다. 이 모델은 챗봇, 질의응답 시스템, 문서 요약, 번역 등 다양한 영역에서 활용될 수 있습니다.\n",
      "[나]위의 내용을 간단히 정리해주세요.\n",
      "[AI]ChatGPT 또는 GPT-3은 OpenAI에서 개발된 대화형 인공지능 모델로, 텍스트 생성 및 이해를 위한 알고리즘입니다. GPT-3는 다양한 자연어 처리 작업을 수행할 수 있는 최신 버전입니다.\n",
      "[나]end\n",
      "AI와 채팅을 종료합니다.\n"
     ]
    }
   ],
   "source": [
    "import os\n",
    "from dotenv import load_dotenv\n",
    "import openai\n",
    "\n",
    "\n",
    "# API Key 환경변수 설정\n",
    "load_dotenv()\n",
    "os.environ['OPENAI_API_KEY'] = os.getenv(\"OPENAI_API_KEY\")\n",
    "\n",
    "\n",
    "# ChatGPT와 대화하기\n",
    "user_input = input(\"AI와 채팅할 내용을 입력하세요 (종료하려면 end를 입력하세요) \\n[나]:\")\n",
    "print(f\"[나]{user_input}\")\n",
    "\n",
    "messages = [{\"role\": \"system\", \"content\": \"You are a helpful assistant.\"}]   \n",
    "\n",
    "ai_message = \"\"\n",
    "\n",
    "while(user_input !=\"end\"):\n",
    "    message = [{\"role\": \"assistant\", \"content\": ai_message},\n",
    "               {\"role\": \"user\", \"content\": user_input}]\n",
    "    messages.extend(message)  # user와 assistant의 대화 내용을 모두 저장하고 전달\n",
    "\n",
    "    response = openai.chat.completions.create(\n",
    "        model = \"gpt-3.5-turbo\", \n",
    "        messages = messages,\n",
    "        max_tokens = 1000,\n",
    "        temperature = 0.9,\n",
    "        n = 1\n",
    "    )\n",
    "\n",
    "    ai_message = response.choices[0].message.content\n",
    "    print(f\"[AI]{ai_message}\")\n",
    "    user_input = input(\"\\n[나]:\")\n",
    "    print(f\"[나]{user_input}\")\n",
    "    \n",
    "\n",
    "if(user_input == \"end\"):\n",
    "    print(\"AI와 채팅을 종료합니다.\")"
   ]
  }
 ],
 "metadata": {
  "anaconda-cloud": {},
  "kernelspec": {
   "display_name": "AI_API",
   "language": "python",
   "name": "python3"
  },
  "language_info": {
   "codemirror_mode": {
    "name": "ipython",
    "version": 3
   },
   "file_extension": ".py",
   "mimetype": "text/x-python",
   "name": "python",
   "nbconvert_exporter": "python",
   "pygments_lexer": "ipython3",
   "version": "3.13.2"
  },
  "latex_envs": {
   "LaTeX_envs_menu_present": true,
   "autoclose": false,
   "autocomplete": true,
   "bibliofile": "biblio.bib",
   "cite_by": "apalike",
   "current_citInitial": 1,
   "eqLabelWithNumbers": true,
   "eqNumInitial": 1,
   "hotkeys": {
    "equation": "Ctrl-E",
    "itemize": "Ctrl-I"
   },
   "labels_anchors": false,
   "latex_user_defs": false,
   "report_style_numbering": false,
   "user_envs_cfg": false
  },
  "nav_menu": {},
  "toc": {
   "base_numbering": "5",
   "nav_menu": {
    "height": "512px",
    "width": "252px"
   },
   "number_sections": false,
   "sideBar": true,
   "skip_h1_title": false,
   "title_cell": "Table of Contents",
   "title_sidebar": "Contents",
   "toc_cell": false,
   "toc_position": {
    "height": "545px",
    "left": "28px",
    "right": "1078px",
    "top": "111.133px",
    "width": "435px"
   },
   "toc_section_display": true,
   "toc_window_display": false
  },
  "toc_position": {
   "height": "556px",
   "left": "0px",
   "right": "1057px",
   "top": "107px",
   "width": "309px"
  }
 },
 "nbformat": 4,
 "nbformat_minor": 1
}
