{
 "cells": [
  {
   "cell_type": "markdown",
   "metadata": {},
   "source": [
    "### API Key 불러오기"
   ]
  },
  {
   "cell_type": "code",
   "execution_count": 1,
   "metadata": {},
   "outputs": [
    {
     "data": {
      "text/plain": [
       "True"
      ]
     },
     "execution_count": 1,
     "metadata": {},
     "output_type": "execute_result"
    }
   ],
   "source": [
    "import os\n",
    "from dotenv import load_dotenv\n",
    "\n",
    "# API Key 환경변수 설정\n",
    "load_dotenv()"
   ]
  },
  {
   "cell_type": "markdown",
   "metadata": {},
   "source": [
    "### DeepL\n",
    "\n",
    "```python\n",
    "import deepl # deepl 라이브러리를 임포트\n",
    "import os\n",
    "\n",
    "auth_key = os.getenv[\"DEEPL_AUTH_KEY\"] # DeepL 인증 키\n",
    "translator = deepl.Translator(auth_key) # translator 객체 생성\n",
    "\n",
    "text = 번역할 원본 텍스트\n",
    "result = translator.translate_text( # 텍스트 번역\n",
    "    text,                           # 원본 텍스트\n",
    "    target_lang = \"언어 코드\",        # 대상 언어 코드\n",
    "    source_lang = \"언어 코드\"         # 원본 언어 코드\n",
    ")\n",
    "```"
   ]
  },
  {
   "cell_type": "code",
   "execution_count": 2,
   "metadata": {},
   "outputs": [
    {
     "name": "stdout",
     "output_type": "stream",
     "text": [
      "- 감지된 언어 코드: EN\n",
      "- 번역 결과: 클릭 한 번으로 글쓰기 실력을 향상하세요.\n"
     ]
    }
   ],
   "source": [
    "import deepl\n",
    "import os\n",
    "\n",
    "auth_key = os.getenv(\"DeepL_API_KEY\")\n",
    "translator = deepl.Translator(auth_key)\n",
    "\n",
    "text = \"Improve your writing in just one click.\"\n",
    "result = translator.translate_text(\n",
    "    text,\n",
    "    target_lang = \"KO\")\n",
    "\n",
    "print(\"- 감지된 언어 코드:\", result.detected_source_lang)\n",
    "print(\"- 번역 결과:\", result.text)"
   ]
  },
  {
   "cell_type": "code",
   "execution_count": 3,
   "metadata": {},
   "outputs": [
    {
     "name": "stdout",
     "output_type": "stream",
     "text": [
      "- 감지된 언어 코드: EN\n",
      "- 번역 결과: 하지만\n"
     ]
    }
   ],
   "source": [
    "text = \"But\"\n",
    "result = translator.translate_text(\n",
    "    text,               # 원본(소스) 텍스트\n",
    "    target_lang = \"KO\"  # 대상(타깃) 언어 코드  \n",
    ") \n",
    "\n",
    "print(\"- 감지된 언어 코드:\", result.detected_source_lang)\n",
    "print(\"- 번역 결과:\", result.text)"
   ]
  },
  {
   "cell_type": "code",
   "execution_count": 5,
   "metadata": {},
   "outputs": [
    {
     "name": "stdout",
     "output_type": "stream",
     "text": [
      "- 감지된 언어 코드: PL\n",
      "- 번역 결과: 신발\n"
     ]
    }
   ],
   "source": [
    "text = \"But\"\n",
    "result = translator.translate_text(\n",
    "    text,                # 원본(소스) 텍스트\n",
    "    target_lang = \"KO\",  # 대상(타깃) 언어 코드\n",
    "    source_lang = \"PL\"   # 원본(소스) 언어 코드\n",
    ") \n",
    "\n",
    "print(\"- 감지된 언어 코드:\", result.detected_source_lang)\n",
    "print(\"- 번역 결과:\", result.text)"
   ]
  },
  {
   "cell_type": "markdown",
   "metadata": {},
   "source": [
    "```python\n",
    "import deepl # deepl 라이브러리를 임포트\n",
    "import os\n",
    "\n",
    "auth_key = os.getenv[\"DEEPL_AUTH_KEY\"] # DeepL 인증 키\n",
    "translator = deepl.Translator(auth_key) # translator 객체 생성\n",
    "\n",
    "text = 번역할 원본 텍스트\n",
    "result = translator.translate_document_from_filepath( # 문서 파일 번역\n",
    "    input_path,                                       # 입력 문서(원본) 파일의 경로\n",
    "    output_path,                                      # 출력 문서(번역) 파일의 경로\n",
    "    target_lang = \"언어 코드\",                          # 대상(타깃) 문서의 언어 코드\n",
    "    source_lang = \"언어 코드\"                           # 원본(소스) 언어 코드\n",
    ")\n",
    "```"
   ]
  },
  {
   "cell_type": "code",
   "execution_count": 6,
   "metadata": {},
   "outputs": [
    {
     "name": "stdout",
     "output_type": "stream",
     "text": [
      "True\n"
     ]
    }
   ],
   "source": [
    "import deepl\n",
    "import os\n",
    "\n",
    "input_path = \"data/어린왕자_영어_원본.docx\"    # 원본 문서 파일 경로\n",
    "output_path = \"data/어린왕자_한국어_번역.docx\"  # 번역 문서 파일 경로\n",
    "\n",
    "auth_key = os.getenv(\"DeepL_API_KEY\")\n",
    "translator = deepl.Translator(auth_key)\n",
    "\n",
    "result = translator.translate_document_from_filepath( \n",
    "    input_path,\n",
    "    output_path,\n",
    "    target_lang=\"KO\"\n",
    ")\n",
    "\n",
    "print(result.done)"
   ]
  },
  {
   "cell_type": "code",
   "execution_count": 8,
   "metadata": {},
   "outputs": [
    {
     "name": "stdout",
     "output_type": "stream",
     "text": [
      "True\n"
     ]
    }
   ],
   "source": [
    "import deepl\n",
    "import os\n",
    "\n",
    "input_path = \"data/President_Obamas_Farewell_Address_영어_원본.pdf\"    # 원본 문서 파일 경로\n",
    "output_path = \"data/President_Obamas_Farewell_Address_한국어_번역.pdf\"  # 번역 문서 파일 경로\n",
    "\n",
    "auth_key = os.getenv(\"DeepL_API_KEY\")\n",
    "translator = deepl.Translator(auth_key)\n",
    "\n",
    "result = translator.translate_document_from_filepath( \n",
    "    input_path,\n",
    "    output_path,\n",
    "    target_lang=\"KO\"\n",
    ")\n",
    "\n",
    "print(result.done)"
   ]
  }
 ],
 "metadata": {
  "anaconda-cloud": {},
  "kernelspec": {
   "display_name": "AI_API",
   "language": "python",
   "name": "python3"
  },
  "language_info": {
   "codemirror_mode": {
    "name": "ipython",
    "version": 3
   },
   "file_extension": ".py",
   "mimetype": "text/x-python",
   "name": "python",
   "nbconvert_exporter": "python",
   "pygments_lexer": "ipython3",
   "version": "3.13.2"
  },
  "latex_envs": {
   "LaTeX_envs_menu_present": true,
   "autoclose": false,
   "autocomplete": true,
   "bibliofile": "biblio.bib",
   "cite_by": "apalike",
   "current_citInitial": 1,
   "eqLabelWithNumbers": true,
   "eqNumInitial": 1,
   "hotkeys": {
    "equation": "Ctrl-E",
    "itemize": "Ctrl-I"
   },
   "labels_anchors": false,
   "latex_user_defs": false,
   "report_style_numbering": false,
   "user_envs_cfg": false
  },
  "nav_menu": {},
  "toc": {
   "base_numbering": "5",
   "nav_menu": {
    "height": "512px",
    "width": "252px"
   },
   "number_sections": false,
   "sideBar": true,
   "skip_h1_title": false,
   "title_cell": "Table of Contents",
   "title_sidebar": "Contents",
   "toc_cell": false,
   "toc_position": {
    "height": "545px",
    "left": "28px",
    "right": "1078px",
    "top": "111.133px",
    "width": "435px"
   },
   "toc_section_display": true,
   "toc_window_display": false
  },
  "toc_position": {
   "height": "556px",
   "left": "0px",
   "right": "1057px",
   "top": "107px",
   "width": "309px"
  }
 },
 "nbformat": 4,
 "nbformat_minor": 1
}
