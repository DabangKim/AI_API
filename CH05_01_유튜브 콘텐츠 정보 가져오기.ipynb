{
 "cells": [
  {
   "cell_type": "markdown",
   "metadata": {},
   "source": [
    "### 유튜브 정보 가져오기"
   ]
  },
  {
   "cell_type": "code",
   "execution_count": null,
   "metadata": {},
   "outputs": [],
   "source": [
    "import yt_dlp\n",
    "\n",
    "# 유튜브 비디오 정보를 가져오는 함수\n",
    "def get_youtube_video_info(video_url):\n",
    "    ydl_opts = {\n",
    "        'noplaylist': True,\n",
    "        'quiet': True,\n",
    "        'no_warnings': True,\n",
    "    }\n",
    "    \n",
    "    with yt_dlp.YoutubeDL(ydl_opts) as ydl:\n",
    "        video_info = ydl.extract_info(video_url, download=False) # 비디오 정보 추출\n",
    "        video_id = video_info['id']              # 비디오 정보에서 비디오 ID 추출\n",
    "        title = video_info['title']              # 비디오 정보에서 제목 추출\n",
    "        upload_date = video_info['upload_date']  # 비디오 정보에서 업로드 날짜 추출\n",
    "        channel = video_info['channel']          # 비디오 정보에서 채널 이름 추출\n",
    "        duration = video_info['duration_string'] # 비디오 정보에서 영상 길이 추출\n",
    "\n",
    "    return video_id, title, upload_date, channel, duration"
   ]
  },
  {
   "cell_type": "code",
   "execution_count": 2,
   "metadata": {},
   "outputs": [
    {
     "data": {
      "text/plain": [
       "('rPJ7FGPpzKs',\n",
       " '잘입재형과 러닝 (도쿄마라톤 서브7의 비결) #러닝 #카페 #상수 #푸글렌',\n",
       " '20250424',\n",
       " '피식대학Psick Univ',\n",
       " '15:13')"
      ]
     },
     "execution_count": 2,
     "metadata": {},
     "output_type": "execute_result"
    }
   ],
   "source": [
    "video_url = 'https://www.youtube.com/watch?v=rPJ7FGPpzKs&t=384s'\n",
    "get_youtube_video_info(video_url)"
   ]
  },
  {
   "cell_type": "markdown",
   "metadata": {},
   "source": [
    "### 유튜브 영상 다운받기"
   ]
  },
  {
   "cell_type": "code",
   "execution_count": null,
   "metadata": {},
   "outputs": [],
   "source": [
    "import yt_dlp\n",
    "from pathlib import Path\n",
    "\n",
    "# 유튜브 비디오 정보를 가져오는 함수\n",
    "def get_youtube_video_info(video_url):\n",
    "    ydl_opts = {\n",
    "        'noplaylist': True,\n",
    "        'quiet': True,\n",
    "        'no_warnings': True,\n",
    "    }\n",
    "    \n",
    "    with yt_dlp.YoutubeDL(ydl_opts) as ydl:\n",
    "        video_info = ydl.extract_info(video_url, download=False) # 비디오 정보 추출\n",
    "        video_id = video_info['id']              # 비디오 정보에서 비디오 ID 추출\n",
    "        title = video_info['title']              # 비디오 정보에서 제목 추출\n",
    "        upload_date = video_info['upload_date']  # 비디오 정보에서 업로드 날짜 추출\n",
    "        channel = video_info['channel']          # 비디오 정보에서 채널 이름 추출\n",
    "        duration = video_info['duration_string'] # 비디오 정보에서 영상 길이 추출\n",
    "\n",
    "    return video_id, title, upload_date, channel, duration\n",
    "\n",
    "# 파일 이름에 부적합한 문자를 제거하는 함수\n",
    "def remove_invalid_char_for_filename(input_str):\n",
    "    # 윈도우 파일 이름에 안 쓰는 문자 제거 \n",
    "    invalid_characters = '<>:\"/\\\\|?*'\n",
    "    \n",
    "    for char in invalid_characters:\n",
    "        input_str = input_str.replace(char, '_')\n",
    "        \n",
    "    # 파일명 마지막에 . 제거\n",
    "    while input_str.endswith('.'):\n",
    "        input_str = input_str[:-1]  \n",
    "        \n",
    "    return input_str\n",
    " \n",
    "# 유튜브 비디오를 다운로드하는 함수     \n",
    "def download_youtube_video(video_url, folder, file_name=None):\n",
    "    \n",
    "    _, title, _, _, _ = get_youtube_video_info(video_url)\n",
    "    filename_no_ext = remove_invalid_char_for_filename(title)\n",
    "        \n",
    "    if file_name == None:\n",
    "        download_file = f\"{filename_no_ext}.mp4\" # 확장자는 mp4\n",
    "    else:\n",
    "        download_file = file_name\n",
    "\n",
    "    outtmpl_str = f'{folder}/{download_file}'\n",
    "        \n",
    "    download_path = Path(outtmpl_str)  \n",
    "    \n",
    "    ydl_opts = {                # 다양한 옵션 지정                    \n",
    "        'format': 'best',       # 다운로드 형식 지정 (최적)\n",
    "        'outtmpl': outtmpl_str, # 다운로드 경로 지정\n",
    "        'noplaylist': True,\n",
    "        'quiet': True,\n",
    "        'no_warnings': True,\n",
    "    }\n",
    "\n",
    "    with yt_dlp.YoutubeDL(ydl_opts) as ydl:\n",
    "        video_info = ydl.extract_info(video_url, download=True) # 비디오 정보 추출\n",
    "        title = video_info.get('title', None)                   # 비디오 정보 중 제목만 추출\n",
    "\n",
    "    return title, download_path"
   ]
  },
  {
   "cell_type": "code",
   "execution_count": 5,
   "metadata": {},
   "outputs": [
    {
     "name": "stdout",
     "output_type": "stream",
     "text": [
      "- 유튜브 제목: [한사랑산악회] 山海珍味(산해진미)가 다 모여있는 울릉도,,,               \n",
      "- 다운로드한 파일명: [한사랑산악회] 山海珍味(산해진미)가 다 모여있는 울릉도,,,.mp4\n"
     ]
    }
   ],
   "source": [
    "video_url = 'https://www.youtube.com/watch?v=apwmlJ2Gxxc'\n",
    "download_folder = \"data\" # 다운로드할 폴더는 미리 생성 후 지정\n",
    "video_title, download_path = download_youtube_video(video_url, download_folder)\n",
    "\n",
    "print(\"- 유튜브 제목:\", video_title)\n",
    "print(\"- 다운로드한 파일명:\", download_path.name)"
   ]
  },
  {
   "cell_type": "code",
   "execution_count": 6,
   "metadata": {},
   "outputs": [
    {
     "name": "stdout",
     "output_type": "stream",
     "text": [
      "- 유튜브 제목: [한사랑산악회] 山海珍味(산해진미)가 다 모여있는 울릉도,,,               \n",
      "- 다운로드한 파일명: youtube_video_file.mp4\n"
     ]
    }
   ],
   "source": [
    "# 유튜브 비디오 이름 변경\n",
    "video_url = 'https://www.youtube.com/watch?v=apwmlJ2Gxxc'\n",
    "download_folder = \"data\"              # 다운로드할 폴더는 미리 생성 후 지정\n",
    "file_name = \"youtube_video_file.mp4\"  # 비디오 파일 이름 지정\n",
    "video_title, download_path  = download_youtube_video(video_url, download_folder, file_name)\n",
    "\n",
    "print(\"- 유튜브 제목:\", video_title)\n",
    "print(\"- 다운로드한 파일명:\", download_path.name)"
   ]
  },
  {
   "cell_type": "markdown",
   "metadata": {},
   "source": [
    "### 유튜브 음성 가져오기"
   ]
  },
  {
   "cell_type": "code",
   "execution_count": 7,
   "metadata": {},
   "outputs": [],
   "source": [
    "import yt_dlp\n",
    "from pathlib import Path\n",
    "\n",
    "# 유튜브 비디오 정보를 가져오는 함수\n",
    "def get_youtube_video_info(video_url):\n",
    "    ydl_opts = {\n",
    "        'noplaylist': True,\n",
    "        'quiet': True,\n",
    "        'no_warnings': True,\n",
    "    }\n",
    "    \n",
    "    with yt_dlp.YoutubeDL(ydl_opts) as ydl:\n",
    "        video_info = ydl.extract_info(video_url, download=False) # 비디오 정보 추출\n",
    "        video_id = video_info['id']              # 비디오 정보에서 비디오 ID 추출\n",
    "        title = video_info['title']              # 비디오 정보에서 제목 추출\n",
    "        upload_date = video_info['upload_date']  # 비디오 정보에서 업로드 날짜 추출\n",
    "        channel = video_info['channel']          # 비디오 정보에서 채널 이름 추출\n",
    "        duration = video_info['duration_string'] # 비디오 정보에서 영상 길이 추출\n",
    "\n",
    "    return video_id, title, upload_date, channel, duration\n",
    "\n",
    "# 파일 이름에 부적합한 문자를 제거하는 함수\n",
    "def remove_invalid_char_for_filename(input_str):\n",
    "    # 윈도우 파일 이름에 안 쓰는 문자 제거 \n",
    "    invalid_characters = '<>:\"/\\\\|?*'\n",
    "    \n",
    "    for char in invalid_characters:\n",
    "        input_str = input_str.replace(char, '_')\n",
    "        \n",
    "    # 파일명 마지막에 . 제거\n",
    "    while input_str.endswith('.'):\n",
    "        input_str = input_str[:-1]  \n",
    "        \n",
    "    return input_str\n",
    "\n",
    "# 유튜브 비디오를 오디오 파일로 다운로드하는 함수 \n",
    "def download_youtube_as_mp3(video_url, folder, file_name=None):\n",
    "    \n",
    "    _, title, _, _, _ = get_youtube_video_info(video_url)\n",
    "    filename_no_ext = remove_invalid_char_for_filename(title)\n",
    "        \n",
    "    if file_name == None:\n",
    "        download_file = f\"{filename_no_ext}.mp3\"\n",
    "    else:\n",
    "        download_file = file_name\n",
    "\n",
    "    outtmpl_str = f'{folder}/{download_file}'\n",
    "    download_path = Path(outtmpl_str)  \n",
    "        \n",
    "    ydl_opts = {     \n",
    "        'extract_audio': True,      # 다양한 옵션 지정                    \n",
    "        'format': 'bestaudio/best', # 다운로드 형식 지정 (최적)\n",
    "        'outtmpl': outtmpl_str,     # 다운로드 경로 지정\n",
    "        'noplaylist': True,\n",
    "        'quiet': True,\n",
    "        'no_warnings': True,\n",
    "    }\n",
    "\n",
    "    with yt_dlp.YoutubeDL(ydl_opts) as ydl:\n",
    "        video_info = ydl.extract_info(video_url, download=False) # 비디오 정보 추출\n",
    "        title = video_info.get('title', None) # 비디오 정보 중 제목만 추출\n",
    "        ydl.download(video_url) # 다운로드\n",
    "\n",
    "    return title, download_path"
   ]
  },
  {
   "cell_type": "code",
   "execution_count": 8,
   "metadata": {},
   "outputs": [
    {
     "name": "stdout",
     "output_type": "stream",
     "text": [
      "- 유튜브 제목: [한사랑산악회] 山海珍味(산해진미)가 다 모여있는 울릉도,,,             \n",
      "- 다운로드한 파일명: youtube_video_file.mp3\n"
     ]
    }
   ],
   "source": [
    "video_url = 'https://www.youtube.com/watch?v=apwmlJ2Gxxc'\n",
    "download_folder = \"data\"              # 다운로드할 폴더는 미리 생성 후 지정\n",
    "file_name = \"youtube_video_file.mp3\"  # 오디오 파일 이름 지정\n",
    "video_title, download_path = download_youtube_as_mp3(video_url, download_folder, file_name)\n",
    "\n",
    "print(\"- 유튜브 제목:\", video_title)\n",
    "print(\"- 다운로드한 파일명:\", download_path.name)"
   ]
  },
  {
   "cell_type": "markdown",
   "metadata": {},
   "source": [
    "### 유튜브 자막 가져오기\n",
    "\n",
    "```python\n",
    "from youtube_transcript_api import YouTubeTranscriptApi\n",
    "from types import SimpleNamespace\n",
    "# 포맷 형식\n",
    "from youtube_transcript_api.formatters import PrettyPrintFormatter # 기본 형식자\n",
    "from youtube_transcript_api.formatters import JSONFormatter        # JSON 형식자\n",
    "from youtube_transcript_api.formatters import TextFormatter        # 일반 텍스트 형식자\n",
    "from youtube_transcript_api.formatters import WebVTTFormatter      # Web VTT 형식자\n",
    "from youtube_transcript_api.formatters import SRTFormatter         # SRT 형식자\n",
    "\n",
    "# 자막 리스트 가져오기\n",
    "transcript_list = YouTubeTranscriptApi.list_transcripts(video_id)\n",
    "# 자막 가져오기\n",
    "transcript = YouTubeTranscriptApi.get_transcript(video_id, languages=['ko', 'en'])\n",
    "# dict -> 객체(SimpleNamespace)로 변환\n",
    "transcript_objects = [SimpleNamespace(**item) for item in transcript]\n",
    "# 형식자 선택\n",
    "formatter = SRTFormatter() # SRT 형식의 자막 선택\n",
    "formatted = formatter.format_transcript(transcript)\n",
    "```"
   ]
  },
  {
   "cell_type": "code",
   "execution_count": 1,
   "metadata": {},
   "outputs": [],
   "source": [
    "def get_video_id(video_url):\n",
    "    video_id = video_url.split('v=')[1][:11]\n",
    "    return video_id"
   ]
  },
  {
   "cell_type": "code",
   "execution_count": 2,
   "metadata": {},
   "outputs": [
    {
     "name": "stdout",
     "output_type": "stream",
     "text": [
      "유튜브 비디오 ID:  aCbqE30AfUs\n"
     ]
    }
   ],
   "source": [
    "video_url = 'https://www.youtube.com/watch?v=aCbqE30AfUs&list=PLAlM76XTWG8fZ2bT8hcQL3HKbVVs3j95g&index=3'\n",
    "print(\"유튜브 비디오 ID: \", get_video_id(video_url))"
   ]
  },
  {
   "cell_type": "code",
   "execution_count": 3,
   "metadata": {},
   "outputs": [
    {
     "name": "stdout",
     "output_type": "stream",
     "text": [
      "유튜브 비디오 ID:  RsYnRlSLHZY\n"
     ]
    }
   ],
   "source": [
    "video_url = 'https://www.youtube.com/watch?v=RsYnRlSLHZY'\n",
    "print(\"유튜브 비디오 ID: \", get_video_id(video_url))"
   ]
  },
  {
   "cell_type": "code",
   "execution_count": 4,
   "metadata": {},
   "outputs": [
    {
     "name": "stdout",
     "output_type": "stream",
     "text": [
      "- 유튜브 비디오 ID: aCbqE30AfUs\n",
      "- [자막 언어] Korean (auto-generated), [자막 언어 코드] ko\n"
     ]
    }
   ],
   "source": [
    "from youtube_transcript_api import YouTubeTranscriptApi\n",
    "\n",
    "video_url = 'https://www.youtube.com/watch?v=aCbqE30AfUs&list=PLAlM76XTWG8fZ2bT8hcQL3HKbVVs3j95g&index=3'\n",
    "video_id = get_video_id(video_url)\n",
    "\n",
    "transcript_list = YouTubeTranscriptApi.list_transcripts(video_id)\n",
    "\n",
    "print(f\"- 유튜브 비디오 ID: {video_id}\")\n",
    "for transcript in transcript_list:\n",
    "    print(f\"- [자막 언어] {transcript.language}, [자막 언어 코드] {transcript.language_code}\")"
   ]
  },
  {
   "cell_type": "code",
   "execution_count": 5,
   "metadata": {},
   "outputs": [
    {
     "data": {
      "text/plain": [
       "[{'text': '취소할 수 있는 곡식', 'start': 0.0, 'duration': 4.669},\n",
       " {'text': '경험이 있었습니다', 'start': 1.37, 'duration': 3.299},\n",
       " {'text': '이 질문 약간 심지어 보려고 개 않고', 'start': 5.49, 'duration': 4.28}]"
      ]
     },
     "execution_count": 5,
     "metadata": {},
     "output_type": "execute_result"
    }
   ],
   "source": [
    "transcript = YouTubeTranscriptApi.get_transcript(video_id, languages=['ko'])\n",
    "transcript[0:3]"
   ]
  },
  {
   "cell_type": "code",
   "execution_count": 14,
   "metadata": {},
   "outputs": [
    {
     "name": "stdout",
     "output_type": "stream",
     "text": [
      "1\n",
      "00:00:00,000 --> 00:00:01,370\n",
      "취소할 수 있는 곡식\n",
      "\n",
      "2\n",
      "00:00:01,370 --> 00:00:04,669\n",
      "경험이 있었습니다\n",
      "\n",
      "3\n",
      "00:00:05,490 --> 00:00:07,470\n",
      "이 질문 약간 심지어 보려고 개 않고\n"
     ]
    }
   ],
   "source": [
    "from types import SimpleNamespace\n",
    "from youtube_transcript_api.formatters import SRTFormatter\n",
    "\n",
    "# dict -> 객체(SimpleNamespace)로 변환\n",
    "transcript_objects = [SimpleNamespace(**item) for item in transcript]\n",
    "\n",
    "# 이제 formatter 사용\n",
    "srt_formatter = SRTFormatter()\n",
    "srt_formatted = srt_formatter.format_transcript(transcript_objects)\n",
    "\n",
    "print(srt_formatted[:140])"
   ]
  },
  {
   "cell_type": "code",
   "execution_count": 16,
   "metadata": {},
   "outputs": [
    {
     "name": "stdout",
     "output_type": "stream",
     "text": [
      "취소할 수 있는 곡식\n",
      "경험이 있었습니다\n",
      "이 질문 약간 심지어 보려고 개 않고\n",
      "있다\n",
      "화장 물어보세요 약 것이 아닌게\n",
      "상판을 9세 그\n",
      "[음악]\n",
      "고품격 프로 4 말이란 1회 뭐 이거\n",
      "이\n"
     ]
    }
   ],
   "source": [
    "from types import SimpleNamespace\n",
    "from youtube_transcript_api.formatters import TextFormatter\n",
    "\n",
    "# dict -> 객체(SimpleNamespace)로 변환\n",
    "transcript_objects = [SimpleNamespace(**item) for item in transcript]\n",
    "\n",
    "text_formatter = TextFormatter()\n",
    "text_formatted = text_formatter.format_transcript(transcript_objects)\n",
    "\n",
    "print(text_formatted[:100])"
   ]
  },
  {
   "cell_type": "code",
   "execution_count": 17,
   "metadata": {},
   "outputs": [
    {
     "name": "stdout",
     "output_type": "stream",
     "text": [
      "- SRT 형식의 파일 경로: download/aCbqE30AfUs.srt\n",
      "- Text 형식의 파일 경로: download/aCbqE30AfUs.txt\n"
     ]
    }
   ],
   "source": [
    "# 파일 다운로드\n",
    "download_folder = \"download\"\n",
    "\n",
    "# SRT 형식으로 파일 저장\n",
    "srt_file = f\"{download_folder}/{video_id}.srt\"\n",
    "print(\"- SRT 형식의 파일 경로:\", srt_file)\n",
    "with open(srt_file, 'w') as f:\n",
    "    f.write(srt_formatted)\n",
    "    \n",
    "# 텍스트 형식으로 파일 저장    \n",
    "text_file = f\"{download_folder}/{video_id}.txt\"\n",
    "with open(text_file, 'w') as f:\n",
    "    f.write(text_formatted)\n",
    "print(\"- Text 형식의 파일 경로:\", text_file)"
   ]
  }
 ],
 "metadata": {
  "anaconda-cloud": {},
  "kernelspec": {
   "display_name": "AI_API",
   "language": "python",
   "name": "python3"
  },
  "language_info": {
   "codemirror_mode": {
    "name": "ipython",
    "version": 3
   },
   "file_extension": ".py",
   "mimetype": "text/x-python",
   "name": "python",
   "nbconvert_exporter": "python",
   "pygments_lexer": "ipython3",
   "version": "3.13.2"
  },
  "latex_envs": {
   "LaTeX_envs_menu_present": true,
   "autoclose": false,
   "autocomplete": true,
   "bibliofile": "biblio.bib",
   "cite_by": "apalike",
   "current_citInitial": 1,
   "eqLabelWithNumbers": true,
   "eqNumInitial": 1,
   "hotkeys": {
    "equation": "Ctrl-E",
    "itemize": "Ctrl-I"
   },
   "labels_anchors": false,
   "latex_user_defs": false,
   "report_style_numbering": false,
   "user_envs_cfg": false
  },
  "nav_menu": {},
  "toc": {
   "base_numbering": "5",
   "nav_menu": {
    "height": "512px",
    "width": "252px"
   },
   "number_sections": false,
   "sideBar": true,
   "skip_h1_title": false,
   "title_cell": "Table of Contents",
   "title_sidebar": "Contents",
   "toc_cell": false,
   "toc_position": {
    "height": "545px",
    "left": "28px",
    "right": "1078px",
    "top": "111.133px",
    "width": "435px"
   },
   "toc_section_display": true,
   "toc_window_display": false
  },
  "toc_position": {
   "height": "556px",
   "left": "0px",
   "right": "1057px",
   "top": "107px",
   "width": "309px"
  }
 },
 "nbformat": 4,
 "nbformat_minor": 1
}
