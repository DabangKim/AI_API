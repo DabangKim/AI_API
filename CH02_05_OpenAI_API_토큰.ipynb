{
 "cells": [
  {
   "cell_type": "markdown",
   "metadata": {},
   "source": [
    "### OpenAI 파이썬 라이브러리 설치"
   ]
  },
  {
   "cell_type": "code",
   "execution_count": 1,
   "metadata": {},
   "outputs": [
    {
     "data": {
      "text/plain": [
       "True"
      ]
     },
     "execution_count": 1,
     "metadata": {},
     "output_type": "execute_result"
    }
   ],
   "source": [
    "import os\n",
    "from dotenv import load_dotenv\n",
    "\n",
    "# API Key 환경변수 설정\n",
    "load_dotenv()"
   ]
  },
  {
   "cell_type": "markdown",
   "metadata": {},
   "source": [
    "### tiktoken\n",
    "- 입력 텍스트의 토큰 수를 알려주는 python 라이브러리\n",
    "\n",
    "```python\n",
    "import tiktoken\n",
    "\n",
    "# 특정 인코딩 이름으로 가져오기 (예: \"cl100k_base\")\n",
    "enc = tiktoken.get_encoding(인코딩_이름)\n",
    "# 또는 모델 이름에 맞는 인코딩 자동 선택 (예: \"gpt-4\")\n",
    "enc = tiktoken.encoding_for_model(모델)\n",
    "\n",
    "text = 텍스트\n",
    "\n",
    "encoded_list = enc.encode(text)         # text를 인코딩한 결과로 리스트 생성\n",
    "token_num = len(encoded_list)           # 인코딩 리스트의 길이로 토큰 수 계산\n",
    "decoded_text = enc.decode(encoded_list) # 인코딩 결과를 디코딩해서 텍스트 복원\n",
    "```"
   ]
  },
  {
   "cell_type": "code",
   "execution_count": 1,
   "metadata": {},
   "outputs": [
    {
     "name": "stdout",
     "output_type": "stream",
     "text": [
      "- 인코딩 결과: [83, 1609, 5963, 374, 2294, 0]\n",
      "- 토큰 개수: 6\n",
      "- 디코딩 결과: tiktoken is great!\n"
     ]
    }
   ],
   "source": [
    "import tiktoken\n",
    "\n",
    "text = \"tiktoken is great!\" # 원본 텍스트\n",
    "enc = tiktoken.get_encoding(\"cl100k_base\")\n",
    "# enc = tiktoken.encoding_for_model(\"gpt-3.5-turbo\")\n",
    "\n",
    "encoded_list = enc.encode(text) \n",
    "token_num = len(encoded_list)\n",
    "decoded_text = enc.decode(encoded_list)\n",
    "\n",
    "print(\"- 인코딩 결과:\", encoded_list)\n",
    "print(\"- 토큰 개수:\", token_num)\n",
    "print(\"- 디코딩 결과:\", decoded_text)"
   ]
  }
 ],
 "metadata": {
  "anaconda-cloud": {},
  "kernelspec": {
   "display_name": "AI_API",
   "language": "python",
   "name": "python3"
  },
  "language_info": {
   "codemirror_mode": {
    "name": "ipython",
    "version": 3
   },
   "file_extension": ".py",
   "mimetype": "text/x-python",
   "name": "python",
   "nbconvert_exporter": "python",
   "pygments_lexer": "ipython3",
   "version": "3.13.2"
  },
  "latex_envs": {
   "LaTeX_envs_menu_present": true,
   "autoclose": false,
   "autocomplete": true,
   "bibliofile": "biblio.bib",
   "cite_by": "apalike",
   "current_citInitial": 1,
   "eqLabelWithNumbers": true,
   "eqNumInitial": 1,
   "hotkeys": {
    "equation": "Ctrl-E",
    "itemize": "Ctrl-I"
   },
   "labels_anchors": false,
   "latex_user_defs": false,
   "report_style_numbering": false,
   "user_envs_cfg": false
  },
  "nav_menu": {},
  "toc": {
   "base_numbering": "5",
   "nav_menu": {
    "height": "512px",
    "width": "252px"
   },
   "number_sections": false,
   "sideBar": true,
   "skip_h1_title": false,
   "title_cell": "Table of Contents",
   "title_sidebar": "Contents",
   "toc_cell": false,
   "toc_position": {
    "height": "545px",
    "left": "28px",
    "right": "1078px",
    "top": "111.133px",
    "width": "435px"
   },
   "toc_section_display": true,
   "toc_window_display": false
  },
  "toc_position": {
   "height": "556px",
   "left": "0px",
   "right": "1057px",
   "top": "107px",
   "width": "309px"
  }
 },
 "nbformat": 4,
 "nbformat_minor": 1
}
