{
 "cells": [
  {
   "cell_type": "markdown",
   "metadata": {},
   "source": [
    "### OpenAI 파이썬 라이브러리 설치"
   ]
  },
  {
   "cell_type": "code",
   "execution_count": null,
   "metadata": {},
   "outputs": [],
   "source": [
    "import os\n",
    "from dotenv import load_dotenv\n",
    "\n",
    "# API Key 환경변수 설정\n",
    "load_dotenv()"
   ]
  },
  {
   "cell_type": "markdown",
   "metadata": {},
   "source": [
    "### Chat Completions API를 이용한 함수 호출\n",
    "\n",
    "1. 사용자 입력과 함수 정보를 Chat Completions API 모델로 보내기\n",
    "2. 모델이 사용자의 입력에 따라 함수 호출을 위한 응답(JSON 객체)이나 일반 응답을 생성\n",
    "3. 함수 호출을 위한 응답일 경우 JSON 객체의 구문을 분석하고, 인수가 있는 경우 인수를 사용해 함수를 호출\n",
    "4. 함수 호출 결과를 기존 메시지에 추가해 Chat Completions API 모델로 다시 보내고 응답 결과를 사용자에게 표시"
   ]
  },
  {
   "cell_type": "code",
   "execution_count": 18,
   "metadata": {},
   "outputs": [],
   "source": [
    "import openai\n",
    "import json\n",
    "\n",
    "# 호출 함수\n",
    "def get_price_info(product_name):    \n",
    "    product_price = {\"키보드\": \"3만원\", \"마우스\": \"2만원\", \"모니터\": \"30만원\"}\n",
    "    \n",
    "    price = product_price.get(product_name)  # 제품 이름을 입력해 가격 가져오기\n",
    "    if price == None:  # 제품 가격이 없을 경우\n",
    "        price = \"해당 상품은 가격 정보가 없습니다.\"\n",
    "\n",
    "    price_info = {\n",
    "        \"product_name\": product_name,\n",
    "        \"price\": price\n",
    "    }\n",
    "\n",
    "    return json.dumps(price_info) # JSON 형식으로 변환해 반환\n",
    "\n",
    "# Chat Completions API에 사용자 입력과 함수 정보를 보내는 함수\n",
    "def run_conversation_temp(user_query):   \n",
    "    # 사용자 입력\n",
    "    messages = [{\"role\": \"user\", \"content\": user_query}] \n",
    "        \n",
    "    # 함수 정보 입력   \n",
    "    functions = [                                        \n",
    "        {\n",
    "            \"name\": \"get_price_info\",\n",
    "            \"description\": \"제품 이름에 따른 가격 가져오기\",\n",
    "            \"parameters\": {\n",
    "                \"type\": \"object\",\n",
    "                \"properties\": {\n",
    "                    \"product_name\": {\n",
    "                        \"type\": \"string\",\n",
    "                        \"description\": \"제품 이름. 예를 들면, 키보드, 마우스\",\n",
    "                    },\n",
    "                },\n",
    "                \"required\": [\"product_name\"],\n",
    "            },\n",
    "        }\n",
    "    ]\n",
    "\n",
    "    # 1단계: 사용자 입력과 함수 정보를 Chat Completions API 모델로 보내기    \n",
    "    response = openai.chat.completions.create(\n",
    "            model = \"gpt-3.5-turbo\",\n",
    "            messages = messages,\n",
    "            functions = functions,\n",
    "            function_call = \"auto\"\n",
    "    )\n",
    "    \n",
    "    # 2단계: 응답 생성\n",
    "    response_message = response.choices[0].message # 응답 메시지\n",
    "\n",
    "    if response_message.function_call is not None: # 응답이 함수 호출인지 확인하기\n",
    "        # 3단계: JSON 객체를 분석해 함수 이름과 인수를 추출한 후에 함수 호출\n",
    "        # 주의: JSON 응답이 항상 유효하지 않을 수 있음\n",
    "        \n",
    "        # 함수 이름 추출\n",
    "        function_name = response_message.function_call.name\n",
    "        # 함수 호출을 위한 인수 추출\n",
    "        function_args = json.loads(response_message.function_call.arguments)\n",
    "        \n",
    "        # 함수 호출 및 반환 결과 받기\n",
    "        function_response = get_price_info(\n",
    "            product_name=function_args.get(\"product_name\") # 인수 지정\n",
    "        )\n",
    "        \n",
    "\n",
    "        # 4단계: 함수 호출 결과를 기존 메시지에 추가하고, Chat Completions API 모델로 보내 응답받기\n",
    "\n",
    "        # 함수 호출 결과를 기존 메시지에 추가하기\n",
    "        messages.append(response_message)  # 기존 messages에 조력자 응답 추가\n",
    "        messages.append(                   # 함수와 함수 호출 결과 추가\n",
    "            {\n",
    "                \"role\": \"function\",           # role: function으로 지정\n",
    "                \"name\": function_name,        # name: 호출할 함수 이름 지정\n",
    "                \"content\": function_response, # content: 함수 호출 결과 지정\n",
    "            }\n",
    "        )\n",
    "        \n",
    "        # 함수 호출 결과를 추가한 메시지를 Chat Completions API 모델로 보내 응답받기\n",
    "        second_response = openai.chat.completions.create(\n",
    "            model = \"gpt-3.5-turbo\",\n",
    "            messages = messages,\n",
    "        ) \n",
    "        return second_response.choices[0].message.content # 두 번째 응답 반환\n",
    "    \n",
    "    return response_message.content # 응답 메시지 반환"
   ]
  },
  {
   "cell_type": "code",
   "execution_count": 19,
   "metadata": {},
   "outputs": [
    {
     "data": {
      "text/plain": [
       "'\"마우스의 가격은 20,000원 입니다.\"'"
      ]
     },
     "execution_count": 19,
     "metadata": {},
     "output_type": "execute_result"
    }
   ],
   "source": [
    "user_query = \"마우스는 얼마인가요?\" # 가격 정보 있음\n",
    "response = run_conversation_temp(user_query)\n",
    "json.dumps(response, ensure_ascii=False)"
   ]
  },
  {
   "cell_type": "code",
   "execution_count": 23,
   "metadata": {},
   "outputs": [
    {
     "data": {
      "text/plain": [
       "'\"죄송합니다. HDD의 가격 정보를 찾을 수 없습니다. 해당 제품의 가격은 변동될 수 있으니 직접 온라인 쇼핑몰이나 전문 가전 제품 판매점을 방문하여 확인해주세요.\"'"
      ]
     },
     "execution_count": 23,
     "metadata": {},
     "output_type": "execute_result"
    }
   ],
   "source": [
    "user_query = \"HDD는 얼마인가요?\" # 가격 정보 없음\n",
    "response = run_conversation_temp(user_query)\n",
    "json.dumps(response, ensure_ascii=False)"
   ]
  }
 ],
 "metadata": {
  "anaconda-cloud": {},
  "kernelspec": {
   "display_name": "AI_API",
   "language": "python",
   "name": "python3"
  },
  "language_info": {
   "codemirror_mode": {
    "name": "ipython",
    "version": 3
   },
   "file_extension": ".py",
   "mimetype": "text/x-python",
   "name": "python",
   "nbconvert_exporter": "python",
   "pygments_lexer": "ipython3",
   "version": "3.13.2"
  },
  "latex_envs": {
   "LaTeX_envs_menu_present": true,
   "autoclose": false,
   "autocomplete": true,
   "bibliofile": "biblio.bib",
   "cite_by": "apalike",
   "current_citInitial": 1,
   "eqLabelWithNumbers": true,
   "eqNumInitial": 1,
   "hotkeys": {
    "equation": "Ctrl-E",
    "itemize": "Ctrl-I"
   },
   "labels_anchors": false,
   "latex_user_defs": false,
   "report_style_numbering": false,
   "user_envs_cfg": false
  },
  "nav_menu": {},
  "toc": {
   "base_numbering": "5",
   "nav_menu": {
    "height": "512px",
    "width": "252px"
   },
   "number_sections": false,
   "sideBar": true,
   "skip_h1_title": false,
   "title_cell": "Table of Contents",
   "title_sidebar": "Contents",
   "toc_cell": false,
   "toc_position": {
    "height": "545px",
    "left": "28px",
    "right": "1078px",
    "top": "111.133px",
    "width": "435px"
   },
   "toc_section_display": true,
   "toc_window_display": false
  },
  "toc_position": {
   "height": "556px",
   "left": "0px",
   "right": "1057px",
   "top": "107px",
   "width": "309px"
  }
 },
 "nbformat": 4,
 "nbformat_minor": 1
}
