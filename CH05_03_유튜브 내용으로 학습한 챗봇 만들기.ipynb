{
 "cells": [
  {
   "cell_type": "markdown",
   "metadata": {},
   "source": [
    "### 유튜브 비디오 자막 정보 활용"
   ]
  },
  {
   "cell_type": "code",
   "execution_count": 1,
   "metadata": {},
   "outputs": [
    {
     "name": "stdout",
     "output_type": "stream",
     "text": [
      "이 사람 덕분에 어렵고 복잡하다고만 생각했던 ‘수학'을 다시 보게 됐다는 분들 많습니다. 수학자에게 주어지는 큰 영예죠. 필즈상을 받은 허준이 프린스턴대 교수가 지난 주말 시상식을 마치고 귀국했고, 오늘 KBS에 직접 나왔습니다. 빨리 만나보죠. [..이하 생략..]\n"
     ]
    }
   ],
   "source": [
    "from youtube_transcript_api import YouTubeTranscriptApi\n",
    "from types import SimpleNamespace\n",
    "from youtube_transcript_api.formatters import TextFormatter\n",
    "import textwrap\n",
    "\n",
    "def get_video_id(video_url):\n",
    "    video_id = video_url.split('v=')[1][:11]\n",
    "    return video_id\n",
    "\n",
    "video_url = \"https://www.youtube.com/watch?v=pSJrML-TTmI\"\n",
    "video_id = get_video_id(video_url)\n",
    "\n",
    "transcript = YouTubeTranscriptApi.get_transcript(video_id, languages=['ko'])\n",
    "transcript_objects = [SimpleNamespace(**item) for item in transcript]\n",
    "\n",
    "text_formatter = TextFormatter()\n",
    "text_formatted = text_formatter.format_transcript(transcript_objects)\n",
    "text_info = text_formatted.replace(\"\\n\", \" \")\n",
    "\n",
    "shorten_text_info = textwrap.shorten(text_info, 150 ,placeholder=' [..이하 생략..]')\n",
    "print(shorten_text_info) # 축약 출력\n",
    "# print(text_info) # 전체 내용 출력"
   ]
  },
  {
   "cell_type": "code",
   "execution_count": 2,
   "metadata": {},
   "outputs": [],
   "source": [
    "import openai\n",
    "\n",
    "def answer_from_given_info(question_info, prompt):\n",
    "\n",
    "    # 입력 정보에 기반해 답변 요청\n",
    "    user_content = f\"{prompt} 다음 내용을 바탕으로 질문에 답해 줘. {question_info}\" \n",
    "    \n",
    "    messages = [ {'role': 'user', 'content': user_content} ]\n",
    "\n",
    "    response = openai.chat.completions.create(\n",
    "        model = \"gpt-3.5-turbo\",\n",
    "        messages = messages,                        \n",
    "        max_tokens = 500,\n",
    "        stop = [\".\"],\n",
    "        temperature = 0.8\n",
    "    )\n",
    "    \n",
    "    return response.choices[0].message.content # 응답 결과 반환"
   ]
  },
  {
   "cell_type": "code",
   "execution_count": 3,
   "metadata": {},
   "outputs": [
    {
     "name": "stdout",
     "output_type": "stream",
     "text": [
      "허준이 교수가 받은 상은 필즈상입니다\n"
     ]
    }
   ],
   "source": [
    "question_info = text_info # 자막을 가져온 내용을 학습 데이터로 사용\n",
    "prompt = \"허준이 교수가 받은 상은 무엇인가요?\" # 질문\n",
    "response = answer_from_given_info(question_info, prompt)\n",
    "print(response)"
   ]
  },
  {
   "cell_type": "code",
   "execution_count": 4,
   "metadata": {},
   "outputs": [
    {
     "name": "stdout",
     "output_type": "stream",
     "text": [
      "허준이 교수는 프린스턴대학교 교수입니다\n"
     ]
    }
   ],
   "source": [
    "question_info = text_info # 자막을 가져온 내용을 학습 데이터로 사용\n",
    "prompt = \"허준이 교수는 어느 대학 교수인가요?\" # 질문\n",
    "response = answer_from_given_info(question_info, prompt)\n",
    "print(response)"
   ]
  },
  {
   "cell_type": "markdown",
   "metadata": {},
   "source": [
    "### 음성에서 추출한 정보 활용"
   ]
  },
  {
   "cell_type": "code",
   "execution_count": 5,
   "metadata": {},
   "outputs": [],
   "source": [
    "import yt_dlp\n",
    "from pathlib import Path\n",
    "\n",
    "# 유튜브 비디오 정보를 가져오는 함수\n",
    "def get_youtube_video_info(video_url):\n",
    "    ydl_opts = {\n",
    "        'noplaylist': True,\n",
    "        'quiet': True,\n",
    "        'no_warnings': True,\n",
    "    }\n",
    "    \n",
    "    with yt_dlp.YoutubeDL(ydl_opts) as ydl:\n",
    "        video_info = ydl.extract_info(video_url, download=False) # 비디오 정보 추출\n",
    "        video_id = video_info['id']              # 비디오 정보에서 비디오 ID 추출\n",
    "        title = video_info['title']              # 비디오 정보에서 제목 추출\n",
    "        upload_date = video_info['upload_date']  # 비디오 정보에서 업로드 날짜 추출\n",
    "        channel = video_info['channel']          # 비디오 정보에서 채널 이름 추출\n",
    "        duration = video_info['duration_string'] # 비디오 정보에서 영상 길이 추출\n",
    "\n",
    "    return video_id, title, upload_date, channel, duration\n",
    "\n",
    "# 파일 이름에 부적합한 문자를 제거하는 함수\n",
    "def remove_invalid_char_for_filename(input_str):\n",
    "    # 윈도우 파일 이름에 안 쓰는 문자 제거 \n",
    "    invalid_characters = '<>:\"/\\\\|?*'\n",
    "    \n",
    "    for char in invalid_characters:\n",
    "        input_str = input_str.replace(char, '_')\n",
    "        \n",
    "    # 파일명 마지막에 . 제거\n",
    "    while input_str.endswith('.'):\n",
    "        input_str = input_str[:-1]  \n",
    "        \n",
    "    return input_str\n",
    "\n",
    "# 유튜브 비디오를 오디오 파일로 다운로드하는 함수 \n",
    "def download_youtube_as_mp3(video_url, folder, file_name=None):\n",
    "    \n",
    "    _, title, _, _, _ = get_youtube_video_info(video_url)\n",
    "    filename_no_ext = remove_invalid_char_for_filename(title)\n",
    "        \n",
    "    if file_name == None:\n",
    "        download_file = f\"{filename_no_ext}.mp3\"\n",
    "    else:\n",
    "        download_file = file_name\n",
    "\n",
    "    outtmpl_str = f'{folder}/{download_file}'\n",
    "    download_path = Path(outtmpl_str)  \n",
    "        \n",
    "    ydl_opts = {     \n",
    "        'extract_audio': True,      # 다양한 옵션 지정                    \n",
    "        'format': 'bestaudio/best', # 다운로드 형식 지정 (최적)\n",
    "        'outtmpl': outtmpl_str,     # 다운로드 경로 지정\n",
    "        'noplaylist': True,\n",
    "        'quiet': True,\n",
    "        'no_warnings': True,\n",
    "    }\n",
    "\n",
    "    with yt_dlp.YoutubeDL(ydl_opts) as ydl:\n",
    "        video_info = ydl.extract_info(video_url, download=False) # 비디오 정보 추출\n",
    "        title = video_info.get('title', None) # 비디오 정보 중 제목만 추출\n",
    "        ydl.download(video_url) # 다운로드\n",
    "\n",
    "    return title, download_path"
   ]
  },
  {
   "cell_type": "code",
   "execution_count": 6,
   "metadata": {},
   "outputs": [
    {
     "name": "stdout",
     "output_type": "stream",
     "text": [
      "- 유튜브 제목: “AI 개발, 멈출 때 아냐…갤럭시 ‘빙’ 탑재, 삼성에 달려” [9시 뉴스] / KBS  2023.04.18.\n",
      "- 다운로드한 파일명: youtube_video_KBS_news.mp3\n"
     ]
    }
   ],
   "source": [
    "video_url = \"https://www.youtube.com/watch?v=EKqQvzyVAh4\" # 한국어와 영어 모두 있는 비디오\n",
    "download_folder = \"download\" # 다운로드 폴더\n",
    "\n",
    "# 유튜브 비디오를 오디오 파일로 다운로드\n",
    "file_name = \"youtube_video_KBS_news.mp3\"\n",
    "title, download_path = download_youtube_as_mp3(video_url, download_folder, file_name)\n",
    "\n",
    "print(\"- 유튜브 제목:\", title)\n",
    "print(\"- 다운로드한 파일명:\", download_path.name)"
   ]
  },
  {
   "cell_type": "code",
   "execution_count": null,
   "metadata": {},
   "outputs": [],
   "source": [
    "from pathlib import Path\n",
    "from openai import OpenAI\n",
    "import textwrap\n",
    "\n",
    "def audio_transcribe(input_path, resp_format=\"text\", lang=\"en\"):\n",
    "    client = OpenAI()\n",
    "\n",
    "    with open(input_path, \"rb\") as f: # 음성 파일 열기\n",
    "        # 음성 추출  \n",
    "        transcript_response = client.audio.transcriptions.create(\n",
    "            model = \"gpt-4o-mini-transcribe\",\n",
    "            file = f,\n",
    "            language = lang,            \n",
    "            response_format = resp_format # 추출할 텍스트 형식 지정\n",
    "        )\n",
    "    \n",
    "    # 음성을 텍스트로 추출한 후에 텍스트 파일로 저장\n",
    "    path = Path(input_path)\n",
    "    output_file = path.with_suffix('.txt') if resp_format == \"text\" else path.with_suffix('.srt')\n",
    "        \n",
    "    with open(output_file, 'w', encoding='utf-8') as f:\n",
    "        if isinstance(transcript_response, str):\n",
    "            f.write(transcript_response)\n",
    "        else:\n",
    "            f.write(transcript_response.text)\n",
    "\n",
    "    return transcript_response, output_file\n",
    "\n",
    "audio_path = download_path\n",
    "   \n",
    "print(f\"[오디오 파일명] {audio_path.name}\\n\")\n",
    "\n",
    "transcript, output_file = audio_transcribe(audio_path)\n",
    "shorten_text = textwrap.shorten(transcript, 250, placeholder=' [..이하 생략..]')\n",
    "\n",
    "print(f\"- [출력 파일] {output_file.name}\")\n",
    "print(f\"- [음성 추출 결과]\\n{shorten_text}\" )"
   ]
  },
  {
   "cell_type": "code",
   "execution_count": null,
   "metadata": {},
   "outputs": [],
   "source": [
    "input_file = output_file\n",
    "translated_file = transplate_text_file(input_file)\n",
    "\n",
    "print(\"- 번역 파일:\", translated_file.name)"
   ]
  },
  {
   "cell_type": "code",
   "execution_count": null,
   "metadata": {},
   "outputs": [],
   "source": [
    "file_name = translated_file # 유튜브 내용을 학습 데이터로 사용\n",
    "with open(file_name, encoding='utf-8') as f: # 텍스트 파일 읽기\n",
    "    text = f.read() # 텍스트 파일 내용\n",
    "\n",
    "question_info = text # 질문에 대한 학습 데이터\n",
    "prompt = \"마이크로소프트는 OpenAI 개발에 얼마를 투자했나요?\" # 질문\n",
    "\n",
    "response = answer_from_given_info(question_info, prompt)\n",
    "print(response)"
   ]
  },
  {
   "cell_type": "code",
   "execution_count": null,
   "metadata": {},
   "outputs": [],
   "source": [
    "prompt = \"KSB가 인터뷰한 사람은 누구인가요?\"\n",
    "response = answer_from_given_info(question_info, prompt)\n",
    "print(response)"
   ]
  }
 ],
 "metadata": {
  "anaconda-cloud": {},
  "kernelspec": {
   "display_name": "AI_API",
   "language": "python",
   "name": "python3"
  },
  "language_info": {
   "codemirror_mode": {
    "name": "ipython",
    "version": 3
   },
   "file_extension": ".py",
   "mimetype": "text/x-python",
   "name": "python",
   "nbconvert_exporter": "python",
   "pygments_lexer": "ipython3",
   "version": "3.13.2"
  },
  "latex_envs": {
   "LaTeX_envs_menu_present": true,
   "autoclose": false,
   "autocomplete": true,
   "bibliofile": "biblio.bib",
   "cite_by": "apalike",
   "current_citInitial": 1,
   "eqLabelWithNumbers": true,
   "eqNumInitial": 1,
   "hotkeys": {
    "equation": "Ctrl-E",
    "itemize": "Ctrl-I"
   },
   "labels_anchors": false,
   "latex_user_defs": false,
   "report_style_numbering": false,
   "user_envs_cfg": false
  },
  "nav_menu": {},
  "toc": {
   "base_numbering": "5",
   "nav_menu": {
    "height": "512px",
    "width": "252px"
   },
   "number_sections": false,
   "sideBar": true,
   "skip_h1_title": false,
   "title_cell": "Table of Contents",
   "title_sidebar": "Contents",
   "toc_cell": false,
   "toc_position": {
    "height": "545px",
    "left": "28px",
    "right": "1078px",
    "top": "111.133px",
    "width": "435px"
   },
   "toc_section_display": true,
   "toc_window_display": false
  },
  "toc_position": {
   "height": "556px",
   "left": "0px",
   "right": "1057px",
   "top": "107px",
   "width": "309px"
  }
 },
 "nbformat": 4,
 "nbformat_minor": 1
}
